{
  "nbformat": 4,
  "nbformat_minor": 0,
  "metadata": {
    "colab": {
      "provenance": [],
      "collapsed_sections": [
        "27vHhdOPwDUw",
        "ctifnsv75ev4",
        "ZHmRLR6QVUr5",
        "dtpl76-Vgkgz"
      ],
      "authorship_tag": "ABX9TyORLZw9lby3HLtzYNrACU1p",
      "include_colab_link": true
    },
    "kernelspec": {
      "name": "python3",
      "display_name": "Python 3"
    },
    "language_info": {
      "name": "python"
    }
  },
  "cells": [
    {
      "cell_type": "markdown",
      "metadata": {
        "id": "view-in-github",
        "colab_type": "text"
      },
      "source": [
        "<a href=\"https://colab.research.google.com/github/Rohith2003664333/NLP-proj/blob/main/cars_price_prediction_linear_regression_model.ipynb\" target=\"_parent\"><img src=\"https://colab.research.google.com/assets/colab-badge.svg\" alt=\"Open In Colab\"/></a>"
      ]
    },
    {
      "cell_type": "code",
      "execution_count": 114,
      "metadata": {
        "id": "ZgGL9njzqxrn"
      },
      "outputs": [],
      "source": [
        "import pandas as pd\n",
        "import numpy as np\n",
        "import matplotlib.pyplot as plt"
      ]
    },
    {
      "cell_type": "code",
      "source": [
        "df=pd.read_csv('cars.csv')\n"
      ],
      "metadata": {
        "id": "N2q60cdMr03I"
      },
      "execution_count": 162,
      "outputs": []
    },
    {
      "cell_type": "code",
      "source": [
        "df.info()"
      ],
      "metadata": {
        "colab": {
          "base_uri": "https://localhost:8080/"
        },
        "id": "Yr8dz4N_tvRq",
        "outputId": "b5172e50-a372-4058-92c4-b89577b6e3bb"
      },
      "execution_count": 3,
      "outputs": [
        {
          "output_type": "stream",
          "name": "stdout",
          "text": [
            "<class 'pandas.core.frame.DataFrame'>\n",
            "RangeIndex: 100 entries, 0 to 99\n",
            "Data columns (total 13 columns):\n",
            " #   Column             Non-Null Count  Dtype \n",
            "---  ------             --------------  ----- \n",
            " 0   Car_ID             100 non-null    int64 \n",
            " 1   Brand              100 non-null    object\n",
            " 2   Model              100 non-null    object\n",
            " 3   Year               100 non-null    int64 \n",
            " 4   Kilometers_Driven  100 non-null    int64 \n",
            " 5   Fuel_Type          100 non-null    object\n",
            " 6   Transmission       100 non-null    object\n",
            " 7   Owner_Type         100 non-null    object\n",
            " 8   Mileage            100 non-null    int64 \n",
            " 9   Engine             100 non-null    int64 \n",
            " 10  Power              100 non-null    int64 \n",
            " 11  Seats              100 non-null    int64 \n",
            " 12  Price              100 non-null    int64 \n",
            "dtypes: int64(8), object(5)\n",
            "memory usage: 10.3+ KB\n"
          ]
        }
      ]
    },
    {
      "cell_type": "code",
      "source": [],
      "metadata": {
        "id": "KYL7Bqs0wBm6"
      },
      "execution_count": null,
      "outputs": []
    },
    {
      "cell_type": "markdown",
      "source": [
        "# Simple linear regression"
      ],
      "metadata": {
        "id": "27vHhdOPwDUw"
      }
    },
    {
      "cell_type": "code",
      "source": [
        "df=df.drop(['Brand','Model','Fuel_Type','Transmission','Owner_Type',],axis=1)"
      ],
      "metadata": {
        "id": "yGWVEKh3wHp3"
      },
      "execution_count": 13,
      "outputs": []
    },
    {
      "cell_type": "code",
      "source": [
        "df.corr()"
      ],
      "metadata": {
        "colab": {
          "base_uri": "https://localhost:8080/",
          "height": 320
        },
        "id": "XPSi2MGhwb6-",
        "outputId": "76f86f4d-f598-4bf9-9cdc-6fbbd3131530"
      },
      "execution_count": 14,
      "outputs": [
        {
          "output_type": "execute_result",
          "data": {
            "text/plain": [
              "                     Car_ID      Year  Kilometers_Driven   Mileage    Engine  \\\n",
              "Car_ID             1.000000  0.059904          -0.227442  0.026140 -0.027965   \n",
              "Year               0.059904  1.000000          -0.741176  0.213177 -0.355122   \n",
              "Kilometers_Driven -0.227442 -0.741176           1.000000 -0.104437  0.112340   \n",
              "Mileage            0.026140  0.213177          -0.104437  1.000000 -0.680949   \n",
              "Engine            -0.027965 -0.355122           0.112340 -0.680949  1.000000   \n",
              "Power              0.027637 -0.249446          -0.026732 -0.648894  0.805709   \n",
              "Seats             -0.021582 -0.252598           0.396443 -0.194581  0.179179   \n",
              "Price              0.037105 -0.232687          -0.051104 -0.595252  0.714465   \n",
              "\n",
              "                      Power     Seats     Price  \n",
              "Car_ID             0.027637 -0.021582  0.037105  \n",
              "Year              -0.249446 -0.252598 -0.232687  \n",
              "Kilometers_Driven -0.026732  0.396443 -0.051104  \n",
              "Mileage           -0.648894 -0.194581 -0.595252  \n",
              "Engine             0.805709  0.179179  0.714465  \n",
              "Power              1.000000 -0.102867  0.856620  \n",
              "Seats             -0.102867  1.000000 -0.000027  \n",
              "Price              0.856620 -0.000027  1.000000  "
            ],
            "text/html": [
              "\n",
              "  <div id=\"df-4c38e201-3cea-4f39-83ca-7d0ae4de9f83\" class=\"colab-df-container\">\n",
              "    <div>\n",
              "<style scoped>\n",
              "    .dataframe tbody tr th:only-of-type {\n",
              "        vertical-align: middle;\n",
              "    }\n",
              "\n",
              "    .dataframe tbody tr th {\n",
              "        vertical-align: top;\n",
              "    }\n",
              "\n",
              "    .dataframe thead th {\n",
              "        text-align: right;\n",
              "    }\n",
              "</style>\n",
              "<table border=\"1\" class=\"dataframe\">\n",
              "  <thead>\n",
              "    <tr style=\"text-align: right;\">\n",
              "      <th></th>\n",
              "      <th>Car_ID</th>\n",
              "      <th>Year</th>\n",
              "      <th>Kilometers_Driven</th>\n",
              "      <th>Mileage</th>\n",
              "      <th>Engine</th>\n",
              "      <th>Power</th>\n",
              "      <th>Seats</th>\n",
              "      <th>Price</th>\n",
              "    </tr>\n",
              "  </thead>\n",
              "  <tbody>\n",
              "    <tr>\n",
              "      <th>Car_ID</th>\n",
              "      <td>1.000000</td>\n",
              "      <td>0.059904</td>\n",
              "      <td>-0.227442</td>\n",
              "      <td>0.026140</td>\n",
              "      <td>-0.027965</td>\n",
              "      <td>0.027637</td>\n",
              "      <td>-0.021582</td>\n",
              "      <td>0.037105</td>\n",
              "    </tr>\n",
              "    <tr>\n",
              "      <th>Year</th>\n",
              "      <td>0.059904</td>\n",
              "      <td>1.000000</td>\n",
              "      <td>-0.741176</td>\n",
              "      <td>0.213177</td>\n",
              "      <td>-0.355122</td>\n",
              "      <td>-0.249446</td>\n",
              "      <td>-0.252598</td>\n",
              "      <td>-0.232687</td>\n",
              "    </tr>\n",
              "    <tr>\n",
              "      <th>Kilometers_Driven</th>\n",
              "      <td>-0.227442</td>\n",
              "      <td>-0.741176</td>\n",
              "      <td>1.000000</td>\n",
              "      <td>-0.104437</td>\n",
              "      <td>0.112340</td>\n",
              "      <td>-0.026732</td>\n",
              "      <td>0.396443</td>\n",
              "      <td>-0.051104</td>\n",
              "    </tr>\n",
              "    <tr>\n",
              "      <th>Mileage</th>\n",
              "      <td>0.026140</td>\n",
              "      <td>0.213177</td>\n",
              "      <td>-0.104437</td>\n",
              "      <td>1.000000</td>\n",
              "      <td>-0.680949</td>\n",
              "      <td>-0.648894</td>\n",
              "      <td>-0.194581</td>\n",
              "      <td>-0.595252</td>\n",
              "    </tr>\n",
              "    <tr>\n",
              "      <th>Engine</th>\n",
              "      <td>-0.027965</td>\n",
              "      <td>-0.355122</td>\n",
              "      <td>0.112340</td>\n",
              "      <td>-0.680949</td>\n",
              "      <td>1.000000</td>\n",
              "      <td>0.805709</td>\n",
              "      <td>0.179179</td>\n",
              "      <td>0.714465</td>\n",
              "    </tr>\n",
              "    <tr>\n",
              "      <th>Power</th>\n",
              "      <td>0.027637</td>\n",
              "      <td>-0.249446</td>\n",
              "      <td>-0.026732</td>\n",
              "      <td>-0.648894</td>\n",
              "      <td>0.805709</td>\n",
              "      <td>1.000000</td>\n",
              "      <td>-0.102867</td>\n",
              "      <td>0.856620</td>\n",
              "    </tr>\n",
              "    <tr>\n",
              "      <th>Seats</th>\n",
              "      <td>-0.021582</td>\n",
              "      <td>-0.252598</td>\n",
              "      <td>0.396443</td>\n",
              "      <td>-0.194581</td>\n",
              "      <td>0.179179</td>\n",
              "      <td>-0.102867</td>\n",
              "      <td>1.000000</td>\n",
              "      <td>-0.000027</td>\n",
              "    </tr>\n",
              "    <tr>\n",
              "      <th>Price</th>\n",
              "      <td>0.037105</td>\n",
              "      <td>-0.232687</td>\n",
              "      <td>-0.051104</td>\n",
              "      <td>-0.595252</td>\n",
              "      <td>0.714465</td>\n",
              "      <td>0.856620</td>\n",
              "      <td>-0.000027</td>\n",
              "      <td>1.000000</td>\n",
              "    </tr>\n",
              "  </tbody>\n",
              "</table>\n",
              "</div>\n",
              "    <div class=\"colab-df-buttons\">\n",
              "\n",
              "  <div class=\"colab-df-container\">\n",
              "    <button class=\"colab-df-convert\" onclick=\"convertToInteractive('df-4c38e201-3cea-4f39-83ca-7d0ae4de9f83')\"\n",
              "            title=\"Convert this dataframe to an interactive table.\"\n",
              "            style=\"display:none;\">\n",
              "\n",
              "  <svg xmlns=\"http://www.w3.org/2000/svg\" height=\"24px\" viewBox=\"0 -960 960 960\">\n",
              "    <path d=\"M120-120v-720h720v720H120Zm60-500h600v-160H180v160Zm220 220h160v-160H400v160Zm0 220h160v-160H400v160ZM180-400h160v-160H180v160Zm440 0h160v-160H620v160ZM180-180h160v-160H180v160Zm440 0h160v-160H620v160Z\"/>\n",
              "  </svg>\n",
              "    </button>\n",
              "\n",
              "  <style>\n",
              "    .colab-df-container {\n",
              "      display:flex;\n",
              "      gap: 12px;\n",
              "    }\n",
              "\n",
              "    .colab-df-convert {\n",
              "      background-color: #E8F0FE;\n",
              "      border: none;\n",
              "      border-radius: 50%;\n",
              "      cursor: pointer;\n",
              "      display: none;\n",
              "      fill: #1967D2;\n",
              "      height: 32px;\n",
              "      padding: 0 0 0 0;\n",
              "      width: 32px;\n",
              "    }\n",
              "\n",
              "    .colab-df-convert:hover {\n",
              "      background-color: #E2EBFA;\n",
              "      box-shadow: 0px 1px 2px rgba(60, 64, 67, 0.3), 0px 1px 3px 1px rgba(60, 64, 67, 0.15);\n",
              "      fill: #174EA6;\n",
              "    }\n",
              "\n",
              "    .colab-df-buttons div {\n",
              "      margin-bottom: 4px;\n",
              "    }\n",
              "\n",
              "    [theme=dark] .colab-df-convert {\n",
              "      background-color: #3B4455;\n",
              "      fill: #D2E3FC;\n",
              "    }\n",
              "\n",
              "    [theme=dark] .colab-df-convert:hover {\n",
              "      background-color: #434B5C;\n",
              "      box-shadow: 0px 1px 3px 1px rgba(0, 0, 0, 0.15);\n",
              "      filter: drop-shadow(0px 1px 2px rgba(0, 0, 0, 0.3));\n",
              "      fill: #FFFFFF;\n",
              "    }\n",
              "  </style>\n",
              "\n",
              "    <script>\n",
              "      const buttonEl =\n",
              "        document.querySelector('#df-4c38e201-3cea-4f39-83ca-7d0ae4de9f83 button.colab-df-convert');\n",
              "      buttonEl.style.display =\n",
              "        google.colab.kernel.accessAllowed ? 'block' : 'none';\n",
              "\n",
              "      async function convertToInteractive(key) {\n",
              "        const element = document.querySelector('#df-4c38e201-3cea-4f39-83ca-7d0ae4de9f83');\n",
              "        const dataTable =\n",
              "          await google.colab.kernel.invokeFunction('convertToInteractive',\n",
              "                                                    [key], {});\n",
              "        if (!dataTable) return;\n",
              "\n",
              "        const docLinkHtml = 'Like what you see? Visit the ' +\n",
              "          '<a target=\"_blank\" href=https://colab.research.google.com/notebooks/data_table.ipynb>data table notebook</a>'\n",
              "          + ' to learn more about interactive tables.';\n",
              "        element.innerHTML = '';\n",
              "        dataTable['output_type'] = 'display_data';\n",
              "        await google.colab.output.renderOutput(dataTable, element);\n",
              "        const docLink = document.createElement('div');\n",
              "        docLink.innerHTML = docLinkHtml;\n",
              "        element.appendChild(docLink);\n",
              "      }\n",
              "    </script>\n",
              "  </div>\n",
              "\n",
              "\n",
              "<div id=\"df-1f4ca2ec-5e15-4105-9a09-fae3fe8bfe34\">\n",
              "  <button class=\"colab-df-quickchart\" onclick=\"quickchart('df-1f4ca2ec-5e15-4105-9a09-fae3fe8bfe34')\"\n",
              "            title=\"Suggest charts\"\n",
              "            style=\"display:none;\">\n",
              "\n",
              "<svg xmlns=\"http://www.w3.org/2000/svg\" height=\"24px\"viewBox=\"0 0 24 24\"\n",
              "     width=\"24px\">\n",
              "    <g>\n",
              "        <path d=\"M19 3H5c-1.1 0-2 .9-2 2v14c0 1.1.9 2 2 2h14c1.1 0 2-.9 2-2V5c0-1.1-.9-2-2-2zM9 17H7v-7h2v7zm4 0h-2V7h2v10zm4 0h-2v-4h2v4z\"/>\n",
              "    </g>\n",
              "</svg>\n",
              "  </button>\n",
              "\n",
              "<style>\n",
              "  .colab-df-quickchart {\n",
              "      --bg-color: #E8F0FE;\n",
              "      --fill-color: #1967D2;\n",
              "      --hover-bg-color: #E2EBFA;\n",
              "      --hover-fill-color: #174EA6;\n",
              "      --disabled-fill-color: #AAA;\n",
              "      --disabled-bg-color: #DDD;\n",
              "  }\n",
              "\n",
              "  [theme=dark] .colab-df-quickchart {\n",
              "      --bg-color: #3B4455;\n",
              "      --fill-color: #D2E3FC;\n",
              "      --hover-bg-color: #434B5C;\n",
              "      --hover-fill-color: #FFFFFF;\n",
              "      --disabled-bg-color: #3B4455;\n",
              "      --disabled-fill-color: #666;\n",
              "  }\n",
              "\n",
              "  .colab-df-quickchart {\n",
              "    background-color: var(--bg-color);\n",
              "    border: none;\n",
              "    border-radius: 50%;\n",
              "    cursor: pointer;\n",
              "    display: none;\n",
              "    fill: var(--fill-color);\n",
              "    height: 32px;\n",
              "    padding: 0;\n",
              "    width: 32px;\n",
              "  }\n",
              "\n",
              "  .colab-df-quickchart:hover {\n",
              "    background-color: var(--hover-bg-color);\n",
              "    box-shadow: 0 1px 2px rgba(60, 64, 67, 0.3), 0 1px 3px 1px rgba(60, 64, 67, 0.15);\n",
              "    fill: var(--button-hover-fill-color);\n",
              "  }\n",
              "\n",
              "  .colab-df-quickchart-complete:disabled,\n",
              "  .colab-df-quickchart-complete:disabled:hover {\n",
              "    background-color: var(--disabled-bg-color);\n",
              "    fill: var(--disabled-fill-color);\n",
              "    box-shadow: none;\n",
              "  }\n",
              "\n",
              "  .colab-df-spinner {\n",
              "    border: 2px solid var(--fill-color);\n",
              "    border-color: transparent;\n",
              "    border-bottom-color: var(--fill-color);\n",
              "    animation:\n",
              "      spin 1s steps(1) infinite;\n",
              "  }\n",
              "\n",
              "  @keyframes spin {\n",
              "    0% {\n",
              "      border-color: transparent;\n",
              "      border-bottom-color: var(--fill-color);\n",
              "      border-left-color: var(--fill-color);\n",
              "    }\n",
              "    20% {\n",
              "      border-color: transparent;\n",
              "      border-left-color: var(--fill-color);\n",
              "      border-top-color: var(--fill-color);\n",
              "    }\n",
              "    30% {\n",
              "      border-color: transparent;\n",
              "      border-left-color: var(--fill-color);\n",
              "      border-top-color: var(--fill-color);\n",
              "      border-right-color: var(--fill-color);\n",
              "    }\n",
              "    40% {\n",
              "      border-color: transparent;\n",
              "      border-right-color: var(--fill-color);\n",
              "      border-top-color: var(--fill-color);\n",
              "    }\n",
              "    60% {\n",
              "      border-color: transparent;\n",
              "      border-right-color: var(--fill-color);\n",
              "    }\n",
              "    80% {\n",
              "      border-color: transparent;\n",
              "      border-right-color: var(--fill-color);\n",
              "      border-bottom-color: var(--fill-color);\n",
              "    }\n",
              "    90% {\n",
              "      border-color: transparent;\n",
              "      border-bottom-color: var(--fill-color);\n",
              "    }\n",
              "  }\n",
              "</style>\n",
              "\n",
              "  <script>\n",
              "    async function quickchart(key) {\n",
              "      const quickchartButtonEl =\n",
              "        document.querySelector('#' + key + ' button');\n",
              "      quickchartButtonEl.disabled = true;  // To prevent multiple clicks.\n",
              "      quickchartButtonEl.classList.add('colab-df-spinner');\n",
              "      try {\n",
              "        const charts = await google.colab.kernel.invokeFunction(\n",
              "            'suggestCharts', [key], {});\n",
              "      } catch (error) {\n",
              "        console.error('Error during call to suggestCharts:', error);\n",
              "      }\n",
              "      quickchartButtonEl.classList.remove('colab-df-spinner');\n",
              "      quickchartButtonEl.classList.add('colab-df-quickchart-complete');\n",
              "    }\n",
              "    (() => {\n",
              "      let quickchartButtonEl =\n",
              "        document.querySelector('#df-1f4ca2ec-5e15-4105-9a09-fae3fe8bfe34 button');\n",
              "      quickchartButtonEl.style.display =\n",
              "        google.colab.kernel.accessAllowed ? 'block' : 'none';\n",
              "    })();\n",
              "  </script>\n",
              "</div>\n",
              "\n",
              "    </div>\n",
              "  </div>\n"
            ],
            "application/vnd.google.colaboratory.intrinsic+json": {
              "type": "dataframe",
              "summary": "{\n  \"name\": \"df\",\n  \"rows\": 8,\n  \"fields\": [\n    {\n      \"column\": \"Car_ID\",\n      \"properties\": {\n        \"dtype\": \"number\",\n        \"std\": 0.37108917386305174,\n        \"min\": -0.22744235328152088,\n        \"max\": 1.0,\n        \"num_unique_values\": 8,\n        \"samples\": [\n          0.05990367894950862,\n          0.027636907099911266,\n          1.0\n        ],\n        \"semantic_type\": \"\",\n        \"description\": \"\"\n      }\n    },\n    {\n      \"column\": \"Year\",\n      \"properties\": {\n        \"dtype\": \"number\",\n        \"std\": 0.5162702125173017,\n        \"min\": -0.741175621530725,\n        \"max\": 1.0,\n        \"num_unique_values\": 8,\n        \"samples\": [\n          1.0,\n          -0.2494458904111703,\n          0.05990367894950862\n        ],\n        \"semantic_type\": \"\",\n        \"description\": \"\"\n      }\n    },\n    {\n      \"column\": \"Kilometers_Driven\",\n      \"properties\": {\n        \"dtype\": \"number\",\n        \"std\": 0.5027184605853643,\n        \"min\": -0.741175621530725,\n        \"max\": 1.0,\n        \"num_unique_values\": 8,\n        \"samples\": [\n          -0.741175621530725,\n          -0.02673175737984278,\n          -0.22744235328152088\n        ],\n        \"semantic_type\": \"\",\n        \"description\": \"\"\n      }\n    },\n    {\n      \"column\": \"Mileage\",\n      \"properties\": {\n        \"dtype\": \"number\",\n        \"std\": 0.5622339362508746,\n        \"min\": -0.6809491196549012,\n        \"max\": 1.0,\n        \"num_unique_values\": 8,\n        \"samples\": [\n          0.2131766830950052,\n          -0.6488943828634132,\n          0.026140021109285892\n        ],\n        \"semantic_type\": \"\",\n        \"description\": \"\"\n      }\n    },\n    {\n      \"column\": \"Engine\",\n      \"properties\": {\n        \"dtype\": \"number\",\n        \"std\": 0.5871418963477056,\n        \"min\": -0.6809491196549012,\n        \"max\": 1.0,\n        \"num_unique_values\": 8,\n        \"samples\": [\n          -0.3551218858860837,\n          0.8057088247844846,\n          -0.027964991555327674\n        ],\n        \"semantic_type\": \"\",\n        \"description\": \"\"\n      }\n    },\n    {\n      \"column\": \"Power\",\n      \"properties\": {\n        \"dtype\": \"number\",\n        \"std\": 0.601547969021005,\n        \"min\": -0.6488943828634132,\n        \"max\": 1.0,\n        \"num_unique_values\": 8,\n        \"samples\": [\n          -0.2494458904111703,\n          1.0,\n          0.027636907099911266\n        ],\n        \"semantic_type\": \"\",\n        \"description\": \"\"\n      }\n    },\n    {\n      \"column\": \"Seats\",\n      \"properties\": {\n        \"dtype\": \"number\",\n        \"std\": 0.40987686661766715,\n        \"min\": -0.25259781150595756,\n        \"max\": 1.0,\n        \"num_unique_values\": 8,\n        \"samples\": [\n          -0.25259781150595756,\n          -0.10286669616052731,\n          -0.02158234907072725\n        ],\n        \"semantic_type\": \"\",\n        \"description\": \"\"\n      }\n    },\n    {\n      \"column\": \"Price\",\n      \"properties\": {\n        \"dtype\": \"number\",\n        \"std\": 0.5710869462880599,\n        \"min\": -0.5952520147067482,\n        \"max\": 1.0,\n        \"num_unique_values\": 8,\n        \"samples\": [\n          -0.23268700006763515,\n          0.8566198336904809,\n          0.03710539354457836\n        ],\n        \"semantic_type\": \"\",\n        \"description\": \"\"\n      }\n    }\n  ]\n}"
            }
          },
          "metadata": {},
          "execution_count": 14
        }
      ]
    },
    {
      "cell_type": "code",
      "source": [
        "x=df[['Power']]\n",
        "y=df.iloc[:,-1].values"
      ],
      "metadata": {
        "id": "taMjgyjQwYaZ"
      },
      "execution_count": 26,
      "outputs": []
    },
    {
      "cell_type": "code",
      "source": [
        "print(x)"
      ],
      "metadata": {
        "colab": {
          "base_uri": "https://localhost:8080/"
        },
        "id": "LhxPCvmpwxbf",
        "outputId": "5c5c3be3-57b7-4d9f-e8c3-ee051bee088b"
      },
      "execution_count": 27,
      "outputs": [
        {
          "output_type": "stream",
          "name": "stdout",
          "text": [
            "    Power\n",
            "0     108\n",
            "1     140\n",
            "2     395\n",
            "3      74\n",
            "4     194\n",
            "..    ...\n",
            "95    191\n",
            "96    171\n",
            "97    121\n",
            "98    113\n",
            "99     85\n",
            "\n",
            "[100 rows x 1 columns]\n"
          ]
        }
      ]
    },
    {
      "cell_type": "code",
      "source": [
        "print(y)"
      ],
      "metadata": {
        "colab": {
          "base_uri": "https://localhost:8080/"
        },
        "id": "IN_oA5ZlxE2-",
        "outputId": "177076f5-2583-40b4-931b-f5281df14526"
      },
      "execution_count": 24,
      "outputs": [
        {
          "output_type": "stream",
          "name": "stdout",
          "text": [
            "[[ 800000]\n",
            " [1000000]\n",
            " [2500000]\n",
            " [ 600000]\n",
            " [ 850000]\n",
            " [ 750000]\n",
            " [ 900000]\n",
            " [ 650000]\n",
            " [2200000]\n",
            " [2700000]\n",
            " [2300000]\n",
            " [2000000]\n",
            " [ 850000]\n",
            " [1600000]\n",
            " [ 850000]\n",
            " [ 650000]\n",
            " [1800000]\n",
            " [1900000]\n",
            " [3000000]\n",
            " [2500000]\n",
            " [1400000]\n",
            " [ 550000]\n",
            " [ 850000]\n",
            " [ 600000]\n",
            " [1200000]\n",
            " [1600000]\n",
            " [3200000]\n",
            " [2800000]\n",
            " [2700000]\n",
            " [2500000]\n",
            " [ 600000]\n",
            " [ 800000]\n",
            " [1300000]\n",
            " [ 700000]\n",
            " [ 750000]\n",
            " [ 500000]\n",
            " [2000000]\n",
            " [3500000]\n",
            " [4000000]\n",
            " [ 650000]\n",
            " [1500000]\n",
            " [ 450000]\n",
            " [ 500000]\n",
            " [ 700000]\n",
            " [ 850000]\n",
            " [1600000]\n",
            " [3000000]\n",
            " [3200000]\n",
            " [2400000]\n",
            " [1800000]\n",
            " [2700000]\n",
            " [ 550000]\n",
            " [ 500000]\n",
            " [ 700000]\n",
            " [ 650000]\n",
            " [2600000]\n",
            " [2800000]\n",
            " [2900000]\n",
            " [1400000]\n",
            " [ 750000]\n",
            " [ 850000]\n",
            " [ 600000]\n",
            " [1200000]\n",
            " [1600000]\n",
            " [3200000]\n",
            " [2800000]\n",
            " [2700000]\n",
            " [2500000]\n",
            " [ 600000]\n",
            " [ 800000]\n",
            " [1300000]\n",
            " [ 700000]\n",
            " [ 750000]\n",
            " [ 500000]\n",
            " [2000000]\n",
            " [3500000]\n",
            " [4000000]\n",
            " [ 650000]\n",
            " [1500000]\n",
            " [ 450000]\n",
            " [ 500000]\n",
            " [ 700000]\n",
            " [ 850000]\n",
            " [1600000]\n",
            " [3000000]\n",
            " [3200000]\n",
            " [2400000]\n",
            " [1800000]\n",
            " [2700000]\n",
            " [ 550000]\n",
            " [ 500000]\n",
            " [ 700000]\n",
            " [ 650000]\n",
            " [2600000]\n",
            " [2800000]\n",
            " [2900000]\n",
            " [1400000]\n",
            " [ 750000]\n",
            " [ 850000]\n",
            " [ 600000]]\n"
          ]
        }
      ]
    },
    {
      "cell_type": "code",
      "source": [
        "x=np.array(x).reshape(len(x),1)\n"
      ],
      "metadata": {
        "id": "9FWt8gDBw5QK"
      },
      "execution_count": 28,
      "outputs": []
    },
    {
      "cell_type": "code",
      "source": [
        "y=y.reshape(len(y),1)"
      ],
      "metadata": {
        "id": "hcZbK7NJyszn"
      },
      "execution_count": 29,
      "outputs": []
    },
    {
      "cell_type": "code",
      "source": [
        "from sklearn.model_selection import train_test_split\n",
        "x_train,x_test,y_train,y_test=train_test_split(x,y,test_size=0.2,random_state=42)\n"
      ],
      "metadata": {
        "id": "pXr_ZxKbxpii"
      },
      "execution_count": 30,
      "outputs": []
    },
    {
      "cell_type": "code",
      "source": [
        "from sklearn.preprocessing import StandardScaler\n",
        "sc=StandardScaler()\n",
        "sc1=StandardScaler()\n",
        "x_train=sc.fit_transform(x_train)\n",
        "x_test=sc.transform(x_test)\n",
        "y_train=sc1.fit_transform(y_train)\n",
        "y_test=sc1.transform(y_test)"
      ],
      "metadata": {
        "id": "txtb-zIPxKuo"
      },
      "execution_count": 31,
      "outputs": []
    },
    {
      "cell_type": "code",
      "source": [
        "from sklearn.linear_model import LinearRegression\n",
        "lr=LinearRegression()\n",
        "lr.fit(x_train,y_train)"
      ],
      "metadata": {
        "colab": {
          "base_uri": "https://localhost:8080/",
          "height": 75
        },
        "id": "MqMqyOkOzHU4",
        "outputId": "6515d369-2b58-4aeb-b791-4cd123c8bd23"
      },
      "execution_count": 32,
      "outputs": [
        {
          "output_type": "execute_result",
          "data": {
            "text/plain": [
              "LinearRegression()"
            ],
            "text/html": [
              "<style>#sk-container-id-1 {color: black;background-color: white;}#sk-container-id-1 pre{padding: 0;}#sk-container-id-1 div.sk-toggleable {background-color: white;}#sk-container-id-1 label.sk-toggleable__label {cursor: pointer;display: block;width: 100%;margin-bottom: 0;padding: 0.3em;box-sizing: border-box;text-align: center;}#sk-container-id-1 label.sk-toggleable__label-arrow:before {content: \"▸\";float: left;margin-right: 0.25em;color: #696969;}#sk-container-id-1 label.sk-toggleable__label-arrow:hover:before {color: black;}#sk-container-id-1 div.sk-estimator:hover label.sk-toggleable__label-arrow:before {color: black;}#sk-container-id-1 div.sk-toggleable__content {max-height: 0;max-width: 0;overflow: hidden;text-align: left;background-color: #f0f8ff;}#sk-container-id-1 div.sk-toggleable__content pre {margin: 0.2em;color: black;border-radius: 0.25em;background-color: #f0f8ff;}#sk-container-id-1 input.sk-toggleable__control:checked~div.sk-toggleable__content {max-height: 200px;max-width: 100%;overflow: auto;}#sk-container-id-1 input.sk-toggleable__control:checked~label.sk-toggleable__label-arrow:before {content: \"▾\";}#sk-container-id-1 div.sk-estimator input.sk-toggleable__control:checked~label.sk-toggleable__label {background-color: #d4ebff;}#sk-container-id-1 div.sk-label input.sk-toggleable__control:checked~label.sk-toggleable__label {background-color: #d4ebff;}#sk-container-id-1 input.sk-hidden--visually {border: 0;clip: rect(1px 1px 1px 1px);clip: rect(1px, 1px, 1px, 1px);height: 1px;margin: -1px;overflow: hidden;padding: 0;position: absolute;width: 1px;}#sk-container-id-1 div.sk-estimator {font-family: monospace;background-color: #f0f8ff;border: 1px dotted black;border-radius: 0.25em;box-sizing: border-box;margin-bottom: 0.5em;}#sk-container-id-1 div.sk-estimator:hover {background-color: #d4ebff;}#sk-container-id-1 div.sk-parallel-item::after {content: \"\";width: 100%;border-bottom: 1px solid gray;flex-grow: 1;}#sk-container-id-1 div.sk-label:hover label.sk-toggleable__label {background-color: #d4ebff;}#sk-container-id-1 div.sk-serial::before {content: \"\";position: absolute;border-left: 1px solid gray;box-sizing: border-box;top: 0;bottom: 0;left: 50%;z-index: 0;}#sk-container-id-1 div.sk-serial {display: flex;flex-direction: column;align-items: center;background-color: white;padding-right: 0.2em;padding-left: 0.2em;position: relative;}#sk-container-id-1 div.sk-item {position: relative;z-index: 1;}#sk-container-id-1 div.sk-parallel {display: flex;align-items: stretch;justify-content: center;background-color: white;position: relative;}#sk-container-id-1 div.sk-item::before, #sk-container-id-1 div.sk-parallel-item::before {content: \"\";position: absolute;border-left: 1px solid gray;box-sizing: border-box;top: 0;bottom: 0;left: 50%;z-index: -1;}#sk-container-id-1 div.sk-parallel-item {display: flex;flex-direction: column;z-index: 1;position: relative;background-color: white;}#sk-container-id-1 div.sk-parallel-item:first-child::after {align-self: flex-end;width: 50%;}#sk-container-id-1 div.sk-parallel-item:last-child::after {align-self: flex-start;width: 50%;}#sk-container-id-1 div.sk-parallel-item:only-child::after {width: 0;}#sk-container-id-1 div.sk-dashed-wrapped {border: 1px dashed gray;margin: 0 0.4em 0.5em 0.4em;box-sizing: border-box;padding-bottom: 0.4em;background-color: white;}#sk-container-id-1 div.sk-label label {font-family: monospace;font-weight: bold;display: inline-block;line-height: 1.2em;}#sk-container-id-1 div.sk-label-container {text-align: center;}#sk-container-id-1 div.sk-container {/* jupyter's `normalize.less` sets `[hidden] { display: none; }` but bootstrap.min.css set `[hidden] { display: none !important; }` so we also need the `!important` here to be able to override the default hidden behavior on the sphinx rendered scikit-learn.org. See: https://github.com/scikit-learn/scikit-learn/issues/21755 */display: inline-block !important;position: relative;}#sk-container-id-1 div.sk-text-repr-fallback {display: none;}</style><div id=\"sk-container-id-1\" class=\"sk-top-container\"><div class=\"sk-text-repr-fallback\"><pre>LinearRegression()</pre><b>In a Jupyter environment, please rerun this cell to show the HTML representation or trust the notebook. <br />On GitHub, the HTML representation is unable to render, please try loading this page with nbviewer.org.</b></div><div class=\"sk-container\" hidden><div class=\"sk-item\"><div class=\"sk-estimator sk-toggleable\"><input class=\"sk-toggleable__control sk-hidden--visually\" id=\"sk-estimator-id-1\" type=\"checkbox\" checked><label for=\"sk-estimator-id-1\" class=\"sk-toggleable__label sk-toggleable__label-arrow\">LinearRegression</label><div class=\"sk-toggleable__content\"><pre>LinearRegression()</pre></div></div></div></div></div>"
            ]
          },
          "metadata": {},
          "execution_count": 32
        }
      ]
    },
    {
      "cell_type": "code",
      "source": [
        "y_hat=sc1.inverse_transform(lr.predict(x_test))"
      ],
      "metadata": {
        "id": "GzGRtimjziRJ"
      },
      "execution_count": 35,
      "outputs": []
    },
    {
      "cell_type": "code",
      "source": [
        "print(y_hat)"
      ],
      "metadata": {
        "colab": {
          "base_uri": "https://localhost:8080/"
        },
        "id": "WoiKvxsszp5f",
        "outputId": "fb293a66-dc94-40bc-d832-b45554b82234"
      },
      "execution_count": 36,
      "outputs": [
        {
          "output_type": "stream",
          "name": "stdout",
          "text": [
            "[[1501334.91259235]\n",
            " [1148582.50763044]\n",
            " [1522713.8462264 ]\n",
            " [1501334.91259235]\n",
            " [ 966861.57174097]\n",
            " [1052377.30627719]\n",
            " [1266166.64261774]\n",
            " [ 656867.03404718]\n",
            " [1854087.31755425]\n",
            " [1073756.23991125]\n",
            " [1918224.11845642]\n",
            " [ 924103.70447286]\n",
            " [ 710314.36813231]\n",
            " [1020308.90582611]\n",
            " [ 817209.03630259]\n",
            " [1993050.38617561]\n",
            " [3788880.81143623]\n",
            " [1052377.30627719]\n",
            " [1127203.57399639]\n",
            " [1266166.64261774]]\n"
          ]
        }
      ]
    },
    {
      "cell_type": "code",
      "source": [
        "plt.scatter(sc.inverse_transform(x_train),sc1.inverse_transform(y_train),color='red')\n",
        "plt.plot(sc.inverse_transform(x_train),sc1.inverse_transform(lr.predict(x_train)),color='blue')"
      ],
      "metadata": {
        "colab": {
          "base_uri": "https://localhost:8080/",
          "height": 462
        },
        "id": "Ejadbku-z57r",
        "outputId": "a5b8bad6-927e-4a76-eb5d-ae452849e905"
      },
      "execution_count": 39,
      "outputs": [
        {
          "output_type": "execute_result",
          "data": {
            "text/plain": [
              "[<matplotlib.lines.Line2D at 0x7e2e75595720>]"
            ]
          },
          "metadata": {},
          "execution_count": 39
        },
        {
          "output_type": "display_data",
          "data": {
            "text/plain": [
              "<Figure size 640x480 with 1 Axes>"
            ],
            "image/png": "[encoded data removed]"
          },
          "metadata": {}
        }
      ]
    },
    {
      "cell_type": "code",
      "source": [
        "plt.scatter(sc.inverse_transform(x_test),sc1.inverse_transform(y_test),color='red')\n",
        "plt.plot(sc.inverse_transform(x_test),y_hat,color='blue')"
      ],
      "metadata": {
        "colab": {
          "base_uri": "https://localhost:8080/",
          "height": 462
        },
        "id": "_gS529_61Ir6",
        "outputId": "94125801-8bd5-4707-ddbd-0be1815985ee"
      },
      "execution_count": 40,
      "outputs": [
        {
          "output_type": "execute_result",
          "data": {
            "text/plain": [
              "[<matplotlib.lines.Line2D at 0x7e2e752b0d60>]"
            ]
          },
          "metadata": {},
          "execution_count": 40
        },
        {
          "output_type": "display_data",
          "data": {
            "text/plain": [
              "<Figure size 640x480 with 1 Axes>"
            ],
            "image/png": "[encoded data removed]"
          },
          "metadata": {}
        }
      ]
    },
    {
      "cell_type": "code",
      "source": [
        "from sklearn.metrics import r2_score,mean_squared_error\n",
        "print(r2_score(sc1.inverse_transform(y_train),sc1.inverse_transform(lr.predict(x_train))))"
      ],
      "metadata": {
        "colab": {
          "base_uri": "https://localhost:8080/"
        },
        "id": "vqvJYdnn10Bg",
        "outputId": "87b02deb-1029-4a20-e290-0da1992b7d3c"
      },
      "execution_count": 51,
      "outputs": [
        {
          "output_type": "stream",
          "name": "stdout",
          "text": [
            "0.7162629045975091\n"
          ]
        }
      ]
    },
    {
      "cell_type": "code",
      "source": [
        "print(r2_score(sc1.inverse_transform(y_test),sc1.inverse_transform(lr.predict(x_test))))"
      ],
      "metadata": {
        "colab": {
          "base_uri": "https://localhost:8080/"
        },
        "id": "vI1-bzA-3rxs",
        "outputId": "5c8b2829-b586-41a8-9a93-5e8446556145"
      },
      "execution_count": 52,
      "outputs": [
        {
          "output_type": "stream",
          "name": "stdout",
          "text": [
            "0.7403329516226447\n"
          ]
        }
      ]
    },
    {
      "cell_type": "code",
      "source": [
        "print(mean_squared_error(sc1.inverse_transform(y_train),sc1.inverse_transform(lr.predict(x_train))))"
      ],
      "metadata": {
        "colab": {
          "base_uri": "https://localhost:8080/"
        },
        "id": "V3qRUFYi32tS",
        "outputId": "4546f824-e949-4104-9ce5-eda7e17d166d"
      },
      "execution_count": 58,
      "outputs": [
        {
          "output_type": "stream",
          "name": "stdout",
          "text": [
            "279532466319.9953\n"
          ]
        }
      ]
    },
    {
      "cell_type": "code",
      "source": [
        "print(y_hat)"
      ],
      "metadata": {
        "colab": {
          "base_uri": "https://localhost:8080/"
        },
        "id": "NjJxNIvl5A5F",
        "outputId": "c7fcb00f-acff-47d3-ee1a-e0623b0df8aa"
      },
      "execution_count": 62,
      "outputs": [
        {
          "output_type": "stream",
          "name": "stdout",
          "text": [
            "[[1501334.91259235]\n",
            " [1148582.50763044]\n",
            " [1522713.8462264 ]\n",
            " [1501334.91259235]\n",
            " [ 966861.57174097]\n",
            " [1052377.30627719]\n",
            " [1266166.64261774]\n",
            " [ 656867.03404718]\n",
            " [1854087.31755425]\n",
            " [1073756.23991125]\n",
            " [1918224.11845642]\n",
            " [ 924103.70447286]\n",
            " [ 710314.36813231]\n",
            " [1020308.90582611]\n",
            " [ 817209.03630259]\n",
            " [1993050.38617561]\n",
            " [3788880.81143623]\n",
            " [1052377.30627719]\n",
            " [1127203.57399639]\n",
            " [1266166.64261774]]\n"
          ]
        }
      ]
    },
    {
      "cell_type": "code",
      "source": [
        "print(sc1.inverse_transform(y_test))"
      ],
      "metadata": {
        "colab": {
          "base_uri": "https://localhost:8080/"
        },
        "id": "Rle3LAdn5FtI",
        "outputId": "79ea49d0-df6d-4495-a5e4-3c2f48dacb43"
      },
      "execution_count": 64,
      "outputs": [
        {
          "output_type": "stream",
          "name": "stdout",
          "text": [
            "[[1600000.]\n",
            " [ 700000.]\n",
            " [1300000.]\n",
            " [1600000.]\n",
            " [ 850000.]\n",
            " [ 650000.]\n",
            " [ 850000.]\n",
            " [ 500000.]\n",
            " [2300000.]\n",
            " [ 800000.]\n",
            " [3000000.]\n",
            " [ 600000.]\n",
            " [ 500000.]\n",
            " [ 700000.]\n",
            " [ 500000.]\n",
            " [ 850000.]\n",
            " [4000000.]\n",
            " [ 650000.]\n",
            " [ 850000.]\n",
            " [ 800000.]]\n"
          ]
        }
      ]
    },
    {
      "cell_type": "code",
      "source": [
        "print(sc1.inverse_transform(lr.predict(x_train)))"
      ],
      "metadata": {
        "colab": {
          "base_uri": "https://localhost:8080/"
        },
        "id": "EoS3Ec0e4l7O",
        "outputId": "b7134e1c-ae76-4f4e-ee81-dee0829626e5"
      },
      "execution_count": 61,
      "outputs": [
        {
          "output_type": "stream",
          "name": "stdout",
          "text": [
            "[[1918224.11845642]\n",
            " [4152322.68321516]\n",
            " [2495455.3265759 ]\n",
            " [ 656867.03404718]\n",
            " [1266166.64261774]\n",
            " [ 966861.57174097]\n",
            " [1608229.58076262]\n",
            " [1747192.64938398]\n",
            " [1950292.5189075 ]\n",
            " [ 966861.57174097]\n",
            " [1608229.58076262]\n",
            " [3500265.20737648]\n",
            " [3500265.20737648]\n",
            " [1960981.98572453]\n",
            " [1918224.11845642]\n",
            " [1073756.23991125]\n",
            " [1960981.98572453]\n",
            " [1918224.11845642]\n",
            " [ 710314.36813231]\n",
            " [1426508.64487316]\n",
            " [1800639.98346912]\n",
            " [ 966861.57174097]\n",
            " [ 731693.30176637]\n",
            " [1960981.98572453]\n",
            " [1918224.11845642]\n",
            " [2495455.3265759 ]\n",
            " [1020308.90582611]\n",
            " [1779261.04983506]\n",
            " [1308924.50988585]\n",
            " [1704434.78211587]\n",
            " [1308924.50988585]\n",
            " [ 710314.36813231]\n",
            " [1501334.91259235]\n",
            " [3788880.81143623]\n",
            " [1918224.11845642]\n",
            " [1608229.58076262]\n",
            " [1415819.17805613]\n",
            " [2495455.3265759 ]\n",
            " [1501334.91259235]\n",
            " [ 785140.63585151]\n",
            " [2677176.26246537]\n",
            " [ 827898.50311962]\n",
            " [1020308.90582611]\n",
            " [1020308.90582611]\n",
            " [4152322.68321516]\n",
            " [1779261.04983506]\n",
            " [2538213.19384401]\n",
            " [ 924103.70447286]\n",
            " [ 827898.50311962]\n",
            " [1212719.30853261]\n",
            " [ 646177.56723015]\n",
            " [ 646177.56723015]\n",
            " [1747192.64938398]\n",
            " [1736503.18256695]\n",
            " [1127203.57399639]\n",
            " [1960981.98572453]\n",
            " [2709244.66291645]\n",
            " [1522713.8462264 ]\n",
            " [2677176.26246537]\n",
            " [1212719.30853261]\n",
            " [1779261.04983506]\n",
            " [2538213.19384401]\n",
            " [2709244.66291645]\n",
            " [1779261.04983506]\n",
            " [1415819.17805613]\n",
            " [ 817209.03630259]\n",
            " [ 924103.70447286]\n",
            " [4141633.21639813]\n",
            " [ 827898.50311962]\n",
            " [1800639.98346912]\n",
            " [1148582.50763044]\n",
            " [1501334.91259235]\n",
            " [1736503.18256695]\n",
            " [ 966861.57174097]\n",
            " [1747192.64938398]\n",
            " [1127203.57399639]\n",
            " [1020308.90582611]\n",
            " [1020308.90582611]\n",
            " [1020308.90582611]\n",
            " [ 785140.63585151]]\n"
          ]
        }
      ]
    },
    {
      "cell_type": "code",
      "source": [
        "print(y_train)"
      ],
      "metadata": {
        "colab": {
          "base_uri": "https://localhost:8080/"
        },
        "id": "FgkC1ma64Qze",
        "outputId": "3b7819ee-f517-416d-b837-87b43ed70179"
      },
      "execution_count": 57,
      "outputs": [
        {
          "output_type": "stream",
          "name": "stdout",
          "text": [
            "[[ 0.93444953]\n",
            " [ 1.0351988 ]\n",
            " [ 1.53894518]\n",
            " [-1.18128525]\n",
            " [-0.87903743]\n",
            " [-1.03016134]\n",
            " [-0.1737925 ]\n",
            " [-0.27454178]\n",
            " [ 1.0351988 ]\n",
            " [-0.92941207]\n",
            " [ 0.32995388]\n",
            " [ 1.53894518]\n",
            " [ 1.53894518]\n",
            " [ 1.0351988 ]\n",
            " [ 0.93444953]\n",
            " [-0.92941207]\n",
            " [ 1.0351988 ]\n",
            " [ 1.13594808]\n",
            " [-1.18128525]\n",
            " [ 0.12845533]\n",
            " [ 0.12845533]\n",
            " [-0.92941207]\n",
            " [-1.03016134]\n",
            " [ 1.23669735]\n",
            " [ 1.13594808]\n",
            " [ 0.83370025]\n",
            " [-0.9797867 ]\n",
            " [-0.07304322]\n",
            " [-0.47604033]\n",
            " [-0.07304322]\n",
            " [-0.47604033]\n",
            " [-1.08053598]\n",
            " [ 0.2292046 ]\n",
            " [ 2.34493938]\n",
            " [ 0.53145243]\n",
            " [-0.1737925 ]\n",
            " [-0.77828815]\n",
            " [ 1.53894518]\n",
            " [ 0.32995388]\n",
            " [-1.13091062]\n",
            " [ 1.13594808]\n",
            " [-1.08053598]\n",
            " [-1.03016134]\n",
            " [-0.9797867 ]\n",
            " [ 1.0351988 ]\n",
            " [ 0.83370025]\n",
            " [ 1.33744663]\n",
            " [-1.08053598]\n",
            " [-1.08053598]\n",
            " [-0.92941207]\n",
            " [-1.23165989]\n",
            " [-1.23165989]\n",
            " [-0.27454178]\n",
            " [ 0.73295098]\n",
            " [-0.82866279]\n",
            " [ 1.23669735]\n",
            " [ 1.84119301]\n",
            " [-0.37529105]\n",
            " [ 1.13594808]\n",
            " [-0.92941207]\n",
            " [-0.07304322]\n",
            " [ 1.33744663]\n",
            " [ 1.84119301]\n",
            " [ 0.83370025]\n",
            " [-0.67753888]\n",
            " [-1.18128525]\n",
            " [-1.13091062]\n",
            " [ 0.83370025]\n",
            " [-1.08053598]\n",
            " [ 0.12845533]\n",
            " [-0.9797867 ]\n",
            " [ 0.32995388]\n",
            " [ 0.73295098]\n",
            " [-0.82866279]\n",
            " [-0.27454178]\n",
            " [-0.82866279]\n",
            " [-0.9797867 ]\n",
            " [-0.82866279]\n",
            " [-1.03016134]\n",
            " [-1.13091062]]\n"
          ]
        }
      ]
    },
    {
      "cell_type": "markdown",
      "source": [
        "# multiple linear regression"
      ],
      "metadata": {
        "id": "ctifnsv75ev4"
      }
    },
    {
      "cell_type": "code",
      "source": [
        "from sklearn.compose import ColumnTransformer\n",
        "from sklearn.preprocessing import OneHotEncoder\n",
        "ct=ColumnTransformer(transformers=[('encoder',OneHotEncoder(),[1,2,5,6,7])],remainder='passthrough')\n"
      ],
      "metadata": {
        "id": "bFzOpEh-t0Tt"
      },
      "execution_count": 96,
      "outputs": []
    },
    {
      "cell_type": "code",
      "source": [
        "x=df.iloc[:,:-1].values\n",
        "y=df.iloc[:,-1].values"
      ],
      "metadata": {
        "id": "leypYH7n7GIq"
      },
      "execution_count": 97,
      "outputs": []
    },
    {
      "cell_type": "code",
      "source": [
        "print(x)"
      ],
      "metadata": {
        "colab": {
          "base_uri": "https://localhost:8080/"
        },
        "id": "xmUw8c4A7a39",
        "outputId": "a9fb13a2-a287-4e75-de4a-94d5d71bc1f1"
      },
      "execution_count": 101,
      "outputs": [
        {
          "output_type": "stream",
          "name": "stdout",
          "text": [
            "[[0.0e+00 0.0e+00 0.0e+00 ... 1.5e+03 1.1e+02 5.0e+00]\n",
            " [0.0e+00 0.0e+00 0.0e+00 ... 1.6e+03 1.4e+02 5.0e+00]\n",
            " [0.0e+00 0.0e+00 1.0e+00 ... 5.0e+03 4.0e+02 4.0e+00]\n",
            " ...\n",
            " [0.0e+00 0.0e+00 1.0e+00 ... 1.5e+03 1.2e+02 5.0e+00]\n",
            " [0.0e+00 0.0e+00 0.0e+00 ... 1.5e+03 1.1e+02 5.0e+00]\n",
            " [0.0e+00 0.0e+00 0.0e+00 ... 1.2e+03 8.5e+01 5.0e+00]]\n"
          ]
        }
      ]
    },
    {
      "cell_type": "code",
      "source": [
        "x=ct.fit_transform(x)\n"
      ],
      "metadata": {
        "id": "tzp9Mz9L6r49"
      },
      "execution_count": 99,
      "outputs": []
    },
    {
      "cell_type": "code",
      "source": [
        "x=x.toarray()"
      ],
      "metadata": {
        "id": "kQIqOrq_nzRR"
      },
      "execution_count": 100,
      "outputs": []
    },
    {
      "cell_type": "code",
      "source": [
        "from sklearn.model_selection import train_test_split\n",
        "x_train,x_test,y_train,y_test=train_test_split(x,y,test_size=0.2,random_state=0)\n"
      ],
      "metadata": {
        "id": "IsERkVshF17F"
      },
      "execution_count": 102,
      "outputs": []
    },
    {
      "cell_type": "code",
      "source": [
        "print(x_train.shape[0])"
      ],
      "metadata": {
        "colab": {
          "base_uri": "https://localhost:8080/"
        },
        "id": "H0kyNM-jGYZE",
        "outputId": "47e31b89-462d-458d-e802-4095f48ca58e"
      },
      "execution_count": 103,
      "outputs": [
        {
          "output_type": "stream",
          "name": "stdout",
          "text": [
            "80\n"
          ]
        }
      ]
    },
    {
      "cell_type": "code",
      "source": [
        "print(x_test.shape[0])"
      ],
      "metadata": {
        "colab": {
          "base_uri": "https://localhost:8080/"
        },
        "id": "6l8mf_j2Grdh",
        "outputId": "f0aa22f7-cc73-4741-dc14-4c9718e7468f"
      },
      "execution_count": 104,
      "outputs": [
        {
          "output_type": "stream",
          "name": "stdout",
          "text": [
            "20\n"
          ]
        }
      ]
    },
    {
      "cell_type": "code",
      "source": [
        "from sklearn.linear_model import LinearRegression\n",
        "lr=LinearRegression()\n",
        "lr.fit(x_train,y_train)"
      ],
      "metadata": {
        "colab": {
          "base_uri": "https://localhost:8080/",
          "height": 75
        },
        "id": "g7k9-46XFWca",
        "outputId": "7a8192c6-f483-4ebf-9d79-bcb5640c59c4"
      },
      "execution_count": 105,
      "outputs": [
        {
          "output_type": "execute_result",
          "data": {
            "text/plain": [
              "LinearRegression()"
            ],
            "text/html": [
              "<style>#sk-container-id-6 {color: black;background-color: white;}#sk-container-id-6 pre{padding: 0;}#sk-container-id-6 div.sk-toggleable {background-color: white;}#sk-container-id-6 label.sk-toggleable__label {cursor: pointer;display: block;width: 100%;margin-bottom: 0;padding: 0.3em;box-sizing: border-box;text-align: center;}#sk-container-id-6 label.sk-toggleable__label-arrow:before {content: \"▸\";float: left;margin-right: 0.25em;color: #696969;}#sk-container-id-6 label.sk-toggleable__label-arrow:hover:before {color: black;}#sk-container-id-6 div.sk-estimator:hover label.sk-toggleable__label-arrow:before {color: black;}#sk-container-id-6 div.sk-toggleable__content {max-height: 0;max-width: 0;overflow: hidden;text-align: left;background-color: #f0f8ff;}#sk-container-id-6 div.sk-toggleable__content pre {margin: 0.2em;color: black;border-radius: 0.25em;background-color: #f0f8ff;}#sk-container-id-6 input.sk-toggleable__control:checked~div.sk-toggleable__content {max-height: 200px;max-width: 100%;overflow: auto;}#sk-container-id-6 input.sk-toggleable__control:checked~label.sk-toggleable__label-arrow:before {content: \"▾\";}#sk-container-id-6 div.sk-estimator input.sk-toggleable__control:checked~label.sk-toggleable__label {background-color: #d4ebff;}#sk-container-id-6 div.sk-label input.sk-toggleable__control:checked~label.sk-toggleable__label {background-color: #d4ebff;}#sk-container-id-6 input.sk-hidden--visually {border: 0;clip: rect(1px 1px 1px 1px);clip: rect(1px, 1px, 1px, 1px);height: 1px;margin: -1px;overflow: hidden;padding: 0;position: absolute;width: 1px;}#sk-container-id-6 div.sk-estimator {font-family: monospace;background-color: #f0f8ff;border: 1px dotted black;border-radius: 0.25em;box-sizing: border-box;margin-bottom: 0.5em;}#sk-container-id-6 div.sk-estimator:hover {background-color: #d4ebff;}#sk-container-id-6 div.sk-parallel-item::after {content: \"\";width: 100%;border-bottom: 1px solid gray;flex-grow: 1;}#sk-container-id-6 div.sk-label:hover label.sk-toggleable__label {background-color: #d4ebff;}#sk-container-id-6 div.sk-serial::before {content: \"\";position: absolute;border-left: 1px solid gray;box-sizing: border-box;top: 0;bottom: 0;left: 50%;z-index: 0;}#sk-container-id-6 div.sk-serial {display: flex;flex-direction: column;align-items: center;background-color: white;padding-right: 0.2em;padding-left: 0.2em;position: relative;}#sk-container-id-6 div.sk-item {position: relative;z-index: 1;}#sk-container-id-6 div.sk-parallel {display: flex;align-items: stretch;justify-content: center;background-color: white;position: relative;}#sk-container-id-6 div.sk-item::before, #sk-container-id-6 div.sk-parallel-item::before {content: \"\";position: absolute;border-left: 1px solid gray;box-sizing: border-box;top: 0;bottom: 0;left: 50%;z-index: -1;}#sk-container-id-6 div.sk-parallel-item {display: flex;flex-direction: column;z-index: 1;position: relative;background-color: white;}#sk-container-id-6 div.sk-parallel-item:first-child::after {align-self: flex-end;width: 50%;}#sk-container-id-6 div.sk-parallel-item:last-child::after {align-self: flex-start;width: 50%;}#sk-container-id-6 div.sk-parallel-item:only-child::after {width: 0;}#sk-container-id-6 div.sk-dashed-wrapped {border: 1px dashed gray;margin: 0 0.4em 0.5em 0.4em;box-sizing: border-box;padding-bottom: 0.4em;background-color: white;}#sk-container-id-6 div.sk-label label {font-family: monospace;font-weight: bold;display: inline-block;line-height: 1.2em;}#sk-container-id-6 div.sk-label-container {text-align: center;}#sk-container-id-6 div.sk-container {/* jupyter's `normalize.less` sets `[hidden] { display: none; }` but bootstrap.min.css set `[hidden] { display: none !important; }` so we also need the `!important` here to be able to override the default hidden behavior on the sphinx rendered scikit-learn.org. See: https://github.com/scikit-learn/scikit-learn/issues/21755 */display: inline-block !important;position: relative;}#sk-container-id-6 div.sk-text-repr-fallback {display: none;}</style><div id=\"sk-container-id-6\" class=\"sk-top-container\"><div class=\"sk-text-repr-fallback\"><pre>LinearRegression()</pre><b>In a Jupyter environment, please rerun this cell to show the HTML representation or trust the notebook. <br />On GitHub, the HTML representation is unable to render, please try loading this page with nbviewer.org.</b></div><div class=\"sk-container\" hidden><div class=\"sk-item\"><div class=\"sk-estimator sk-toggleable\"><input class=\"sk-toggleable__control sk-hidden--visually\" id=\"sk-estimator-id-6\" type=\"checkbox\" checked><label for=\"sk-estimator-id-6\" class=\"sk-toggleable__label sk-toggleable__label-arrow\">LinearRegression</label><div class=\"sk-toggleable__content\"><pre>LinearRegression()</pre></div></div></div></div></div>"
            ]
          },
          "metadata": {},
          "execution_count": 105
        }
      ]
    },
    {
      "cell_type": "code",
      "source": [
        "y_hat=lr.predict(x_test)\n"
      ],
      "metadata": {
        "id": "sO4_kd6fFjr1"
      },
      "execution_count": 106,
      "outputs": []
    },
    {
      "cell_type": "code",
      "source": [
        "y_hat2=lr.predict(x_train)"
      ],
      "metadata": {
        "id": "zW9aT6L8T0BQ"
      },
      "execution_count": 107,
      "outputs": []
    },
    {
      "cell_type": "code",
      "source": [
        "print(y_hat.shape[0])"
      ],
      "metadata": {
        "colab": {
          "base_uri": "https://localhost:8080/"
        },
        "id": "Qy3kH5z8SoV6",
        "outputId": "f8de07f8-c3e3-46a6-f25e-82d960d013ba"
      },
      "execution_count": 109,
      "outputs": [
        {
          "output_type": "stream",
          "name": "stdout",
          "text": [
            "20\n"
          ]
        }
      ]
    },
    {
      "cell_type": "code",
      "source": [
        "print(y_test.shape[0])"
      ],
      "metadata": {
        "colab": {
          "base_uri": "https://localhost:8080/"
        },
        "id": "z_AQDHzAStwN",
        "outputId": "43368c54-809a-4df4-e9a9-5b37c3664974"
      },
      "execution_count": 110,
      "outputs": [
        {
          "output_type": "stream",
          "name": "stdout",
          "text": [
            "20\n"
          ]
        }
      ]
    },
    {
      "cell_type": "code",
      "source": [
        "print(np.concatenate((y_hat2.reshape(len(y_hat2),1),(y_train.reshape(len(y_train),1))),1))"
      ],
      "metadata": {
        "colab": {
          "base_uri": "https://localhost:8080/"
        },
        "id": "gx3e5COwT-OA",
        "outputId": "3a4df102-e086-4e5a-dcc5-011105e97876"
      },
      "execution_count": 108,
      "outputs": [
        {
          "output_type": "stream",
          "name": "stdout",
          "text": [
            "[[ 700000.  700000.]\n",
            " [1200000. 1200000.]\n",
            " [ 600000.  600000.]\n",
            " [ 700000.  700000.]\n",
            " [1600000. 1600000.]\n",
            " [2400000. 2400000.]\n",
            " [ 900000.  900000.]\n",
            " [ 600000.  600000.]\n",
            " [ 850000.  850000.]\n",
            " [4000000. 4000000.]\n",
            " [ 850000.  850000.]\n",
            " [ 500000.  500000.]\n",
            " [ 500000.  500000.]\n",
            " [ 600000.  600000.]\n",
            " [ 550000.  550000.]\n",
            " [2800000. 2800000.]\n",
            " [3000000. 3000000.]\n",
            " [2800000. 2800000.]\n",
            " [1600000. 1600000.]\n",
            " [2000000. 2000000.]\n",
            " [1000000. 1000000.]\n",
            " [ 600000.  600000.]\n",
            " [ 500000.  500000.]\n",
            " [ 450000.  450000.]\n",
            " [ 850000.  850000.]\n",
            " [ 650000.  650000.]\n",
            " [1900000. 1900000.]\n",
            " [1500000. 1500000.]\n",
            " [4000000. 4000000.]\n",
            " [ 750000.  750000.]\n",
            " [ 700000.  700000.]\n",
            " [ 750000.  750000.]\n",
            " [ 800000.  800000.]\n",
            " [ 750000.  750000.]\n",
            " [2700000. 2700000.]\n",
            " [2700000. 2700000.]\n",
            " [2000000. 2000000.]\n",
            " [ 500000.  500000.]\n",
            " [ 600000.  600000.]\n",
            " [ 500000.  500000.]\n",
            " [2300000. 2300000.]\n",
            " [ 800000.  800000.]\n",
            " [2700000. 2700000.]\n",
            " [2900000. 2900000.]\n",
            " [ 450000.  450000.]\n",
            " [3200000. 3200000.]\n",
            " [1300000. 1300000.]\n",
            " [3000000. 3000000.]\n",
            " [ 850000.  850000.]\n",
            " [ 550000.  550000.]\n",
            " [2500000. 2500000.]\n",
            " [2500000. 2500000.]\n",
            " [1800000. 1800000.]\n",
            " [ 750000.  750000.]\n",
            " [ 850000.  850000.]\n",
            " [ 800000.  800000.]\n",
            " [1400000. 1400000.]\n",
            " [2800000. 2800000.]\n",
            " [ 750000.  750000.]\n",
            " [ 650000.  650000.]\n",
            " [1600000. 1600000.]\n",
            " [3500000. 3500000.]\n",
            " [ 700000.  700000.]\n",
            " [3000000. 3000000.]\n",
            " [ 650000.  650000.]\n",
            " [2800000. 2800000.]\n",
            " [1400000. 1400000.]\n",
            " [ 850000.  850000.]\n",
            " [2700000. 2700000.]\n",
            " [1300000. 1300000.]\n",
            " [1800000. 1800000.]\n",
            " [2000000. 2000000.]\n",
            " [ 550000.  550000.]\n",
            " [1600000. 1600000.]\n",
            " [2700000. 2700000.]\n",
            " [1400000. 1400000.]\n",
            " [2500000. 2500000.]\n",
            " [3200000. 3200000.]\n",
            " [3200000. 3200000.]\n",
            " [ 850000.  850000.]]\n"
          ]
        }
      ]
    },
    {
      "cell_type": "code",
      "source": [
        "np.set_printoptions(1)\n",
        "print(np.concatenate((y_hat.reshape(len(y_hat),1),(y_test.reshape(len(y_test),1))),1))"
      ],
      "metadata": {
        "colab": {
          "base_uri": "https://localhost:8080/"
        },
        "id": "QnZEeRW2HaaN",
        "outputId": "f0cd0932-4af1-426f-e57e-a7dee2878503"
      },
      "execution_count": 111,
      "outputs": [
        {
          "output_type": "stream",
          "name": "stdout",
          "text": [
            "[[3200000.  3200000. ]\n",
            " [2400000.  2400000. ]\n",
            " [2976794.7 2500000. ]\n",
            " [2689122.1 2600000. ]\n",
            " [3500000.  3500000. ]\n",
            " [2689122.1 2600000. ]\n",
            " [1580057.9 1800000. ]\n",
            " [ 500000.   500000. ]\n",
            " [ 476632.8  650000. ]\n",
            " [2900000.  2900000. ]\n",
            " [ 700000.   700000. ]\n",
            " [ 476632.8  650000. ]\n",
            " [1500000.  1500000. ]\n",
            " [1803483.9 1600000. ]\n",
            " [ 666963.2  650000. ]\n",
            " [ 600000.   600000. ]\n",
            " [1031624.8  850000. ]\n",
            " [1200000.  1200000. ]\n",
            " [ 700000.   700000. ]\n",
            " [2649023.3 2200000. ]]\n"
          ]
        }
      ]
    },
    {
      "cell_type": "code",
      "source": [
        "from sklearn.metrics import r2_score,mean_squared_error\n",
        "print(r2_score(y_test,y_hat))"
      ],
      "metadata": {
        "colab": {
          "base_uri": "https://localhost:8080/"
        },
        "id": "F0e3WXR_G-NY",
        "outputId": "c6c5c1d5-9c93-4ea9-8bbb-4513e164e631"
      },
      "execution_count": 112,
      "outputs": [
        {
          "output_type": "stream",
          "name": "stdout",
          "text": [
            "0.9667641223937208\n"
          ]
        }
      ]
    },
    {
      "cell_type": "code",
      "source": [
        "print(r2_score(y_train,lr.predict(x_train)))"
      ],
      "metadata": {
        "colab": {
          "base_uri": "https://localhost:8080/"
        },
        "id": "dVTFFAreHe4n",
        "outputId": "b6350186-cc4e-4f50-d135-56b3e46febf8"
      },
      "execution_count": 113,
      "outputs": [
        {
          "output_type": "stream",
          "name": "stdout",
          "text": [
            "1.0\n"
          ]
        }
      ]
    },
    {
      "cell_type": "markdown",
      "source": [
        "# polynomial regression"
      ],
      "metadata": {
        "id": "ZHmRLR6QVUr5"
      }
    },
    {
      "cell_type": "code",
      "source": [
        "from sklearn.compose import ColumnTransformer\n",
        "from sklearn.preprocessing import OneHotEncoder\n",
        "ct=ColumnTransformer(transformers=[('encoder',OneHotEncoder(),[1,2,5,6,7])],remainder='passthrough')\n"
      ],
      "metadata": {
        "id": "2kihL4UVWOpY"
      },
      "execution_count": 73,
      "outputs": []
    },
    {
      "cell_type": "code",
      "source": [
        "x=df.iloc[:,:-1].values\n",
        "y=df.iloc[:,-1].values"
      ],
      "metadata": {
        "id": "XZJZPzO6VYe1"
      },
      "execution_count": 74,
      "outputs": []
    },
    {
      "cell_type": "code",
      "source": [
        "x=ct.fit_transform(x)"
      ],
      "metadata": {
        "id": "oKq7Qq7-WXKr"
      },
      "execution_count": 75,
      "outputs": []
    },
    {
      "cell_type": "code",
      "source": [
        "x=x.toarray()"
      ],
      "metadata": {
        "id": "9skD_n7TnM9e"
      },
      "execution_count": 76,
      "outputs": []
    },
    {
      "cell_type": "code",
      "source": [
        "print(x)"
      ],
      "metadata": {
        "colab": {
          "base_uri": "https://localhost:8080/"
        },
        "id": "YOxi4gqCWngB",
        "outputId": "0c79f2c0-39ff-438c-8b62-8d79af48fafa"
      },
      "execution_count": 77,
      "outputs": [
        {
          "output_type": "stream",
          "name": "stdout",
          "text": [
            "[[0.0e+00 0.0e+00 0.0e+00 ... 1.5e+03 1.1e+02 5.0e+00]\n",
            " [0.0e+00 0.0e+00 0.0e+00 ... 1.6e+03 1.4e+02 5.0e+00]\n",
            " [0.0e+00 0.0e+00 1.0e+00 ... 5.0e+03 4.0e+02 4.0e+00]\n",
            " ...\n",
            " [0.0e+00 0.0e+00 1.0e+00 ... 1.5e+03 1.2e+02 5.0e+00]\n",
            " [0.0e+00 0.0e+00 0.0e+00 ... 1.5e+03 1.1e+02 5.0e+00]\n",
            " [0.0e+00 0.0e+00 0.0e+00 ... 1.2e+03 8.5e+01 5.0e+00]]\n"
          ]
        }
      ]
    },
    {
      "cell_type": "code",
      "source": [
        "print(x.shape[1])"
      ],
      "metadata": {
        "colab": {
          "base_uri": "https://localhost:8080/"
        },
        "id": "XimcHMGCXKaq",
        "outputId": "256b33be-ff64-421c-b1ce-0a959dabb258"
      },
      "execution_count": 79,
      "outputs": [
        {
          "output_type": "stream",
          "name": "stdout",
          "text": [
            "83\n"
          ]
        }
      ]
    },
    {
      "cell_type": "code",
      "source": [
        "from sklearn.model_selection import train_test_split\n",
        "x_train,x_test,y_train,y_test=train_test_split(x,y,test_size=0.2,random_state=0)"
      ],
      "metadata": {
        "id": "_BGyhYPRZwFi"
      },
      "execution_count": 80,
      "outputs": []
    },
    {
      "cell_type": "code",
      "source": [
        "from sklearn.preprocessing import PolynomialFeatures\n",
        "poly=PolynomialFeatures(degree=1)\n",
        "xtrain_poly=poly.fit_transform(x_train)\n",
        "xtest_poly=poly.fit_transform(x_test)\n"
      ],
      "metadata": {
        "id": "Ro28BK3ZWoWk"
      },
      "execution_count": 87,
      "outputs": []
    },
    {
      "cell_type": "code",
      "source": [
        "print(xtrain_poly.shape[0])"
      ],
      "metadata": {
        "colab": {
          "base_uri": "https://localhost:8080/"
        },
        "id": "H4RLeT3LXSUR",
        "outputId": "c8668161-370f-4f7e-f75b-5f158c33d601"
      },
      "execution_count": 82,
      "outputs": [
        {
          "output_type": "stream",
          "name": "stdout",
          "text": [
            "80\n"
          ]
        }
      ]
    },
    {
      "cell_type": "code",
      "source": [
        "print(xtest_poly.shape[0])"
      ],
      "metadata": {
        "colab": {
          "base_uri": "https://localhost:8080/"
        },
        "id": "l-vliPW-XcmN",
        "outputId": "34b35e88-46bf-42ed-f356-24b3a40f4c6a"
      },
      "execution_count": 38,
      "outputs": [
        {
          "output_type": "stream",
          "name": "stdout",
          "text": [
            "20\n"
          ]
        }
      ]
    },
    {
      "cell_type": "code",
      "source": [
        "from sklearn.linear_model import LinearRegression\n",
        "lr=LinearRegression()\n",
        "lr.fit(xtrain_poly,y_train)\n"
      ],
      "metadata": {
        "colab": {
          "base_uri": "https://localhost:8080/",
          "height": 75
        },
        "id": "suwkbynrXUPU",
        "outputId": "f8b83ceb-f24f-4051-e209-b1571988f567"
      },
      "execution_count": 88,
      "outputs": [
        {
          "output_type": "execute_result",
          "data": {
            "text/plain": [
              "LinearRegression()"
            ],
            "text/html": [
              "<style>#sk-container-id-5 {color: black;background-color: white;}#sk-container-id-5 pre{padding: 0;}#sk-container-id-5 div.sk-toggleable {background-color: white;}#sk-container-id-5 label.sk-toggleable__label {cursor: pointer;display: block;width: 100%;margin-bottom: 0;padding: 0.3em;box-sizing: border-box;text-align: center;}#sk-container-id-5 label.sk-toggleable__label-arrow:before {content: \"▸\";float: left;margin-right: 0.25em;color: #696969;}#sk-container-id-5 label.sk-toggleable__label-arrow:hover:before {color: black;}#sk-container-id-5 div.sk-estimator:hover label.sk-toggleable__label-arrow:before {color: black;}#sk-container-id-5 div.sk-toggleable__content {max-height: 0;max-width: 0;overflow: hidden;text-align: left;background-color: #f0f8ff;}#sk-container-id-5 div.sk-toggleable__content pre {margin: 0.2em;color: black;border-radius: 0.25em;background-color: #f0f8ff;}#sk-container-id-5 input.sk-toggleable__control:checked~div.sk-toggleable__content {max-height: 200px;max-width: 100%;overflow: auto;}#sk-container-id-5 input.sk-toggleable__control:checked~label.sk-toggleable__label-arrow:before {content: \"▾\";}#sk-container-id-5 div.sk-estimator input.sk-toggleable__control:checked~label.sk-toggleable__label {background-color: #d4ebff;}#sk-container-id-5 div.sk-label input.sk-toggleable__control:checked~label.sk-toggleable__label {background-color: #d4ebff;}#sk-container-id-5 input.sk-hidden--visually {border: 0;clip: rect(1px 1px 1px 1px);clip: rect(1px, 1px, 1px, 1px);height: 1px;margin: -1px;overflow: hidden;padding: 0;position: absolute;width: 1px;}#sk-container-id-5 div.sk-estimator {font-family: monospace;background-color: #f0f8ff;border: 1px dotted black;border-radius: 0.25em;box-sizing: border-box;margin-bottom: 0.5em;}#sk-container-id-5 div.sk-estimator:hover {background-color: #d4ebff;}#sk-container-id-5 div.sk-parallel-item::after {content: \"\";width: 100%;border-bottom: 1px solid gray;flex-grow: 1;}#sk-container-id-5 div.sk-label:hover label.sk-toggleable__label {background-color: #d4ebff;}#sk-container-id-5 div.sk-serial::before {content: \"\";position: absolute;border-left: 1px solid gray;box-sizing: border-box;top: 0;bottom: 0;left: 50%;z-index: 0;}#sk-container-id-5 div.sk-serial {display: flex;flex-direction: column;align-items: center;background-color: white;padding-right: 0.2em;padding-left: 0.2em;position: relative;}#sk-container-id-5 div.sk-item {position: relative;z-index: 1;}#sk-container-id-5 div.sk-parallel {display: flex;align-items: stretch;justify-content: center;background-color: white;position: relative;}#sk-container-id-5 div.sk-item::before, #sk-container-id-5 div.sk-parallel-item::before {content: \"\";position: absolute;border-left: 1px solid gray;box-sizing: border-box;top: 0;bottom: 0;left: 50%;z-index: -1;}#sk-container-id-5 div.sk-parallel-item {display: flex;flex-direction: column;z-index: 1;position: relative;background-color: white;}#sk-container-id-5 div.sk-parallel-item:first-child::after {align-self: flex-end;width: 50%;}#sk-container-id-5 div.sk-parallel-item:last-child::after {align-self: flex-start;width: 50%;}#sk-container-id-5 div.sk-parallel-item:only-child::after {width: 0;}#sk-container-id-5 div.sk-dashed-wrapped {border: 1px dashed gray;margin: 0 0.4em 0.5em 0.4em;box-sizing: border-box;padding-bottom: 0.4em;background-color: white;}#sk-container-id-5 div.sk-label label {font-family: monospace;font-weight: bold;display: inline-block;line-height: 1.2em;}#sk-container-id-5 div.sk-label-container {text-align: center;}#sk-container-id-5 div.sk-container {/* jupyter's `normalize.less` sets `[hidden] { display: none; }` but bootstrap.min.css set `[hidden] { display: none !important; }` so we also need the `!important` here to be able to override the default hidden behavior on the sphinx rendered scikit-learn.org. See: https://github.com/scikit-learn/scikit-learn/issues/21755 */display: inline-block !important;position: relative;}#sk-container-id-5 div.sk-text-repr-fallback {display: none;}</style><div id=\"sk-container-id-5\" class=\"sk-top-container\"><div class=\"sk-text-repr-fallback\"><pre>LinearRegression()</pre><b>In a Jupyter environment, please rerun this cell to show the HTML representation or trust the notebook. <br />On GitHub, the HTML representation is unable to render, please try loading this page with nbviewer.org.</b></div><div class=\"sk-container\" hidden><div class=\"sk-item\"><div class=\"sk-estimator sk-toggleable\"><input class=\"sk-toggleable__control sk-hidden--visually\" id=\"sk-estimator-id-5\" type=\"checkbox\" checked><label for=\"sk-estimator-id-5\" class=\"sk-toggleable__label sk-toggleable__label-arrow\">LinearRegression</label><div class=\"sk-toggleable__content\"><pre>LinearRegression()</pre></div></div></div></div></div>"
            ]
          },
          "metadata": {},
          "execution_count": 88
        }
      ]
    },
    {
      "cell_type": "code",
      "source": [
        "y_hat=lr.predict(xtest_poly)"
      ],
      "metadata": {
        "id": "Fhvf4qVaYxez"
      },
      "execution_count": 89,
      "outputs": []
    },
    {
      "cell_type": "code",
      "source": [
        "np.set_printoptions(1)\n",
        "print(np.concatenate((y_hat.reshape(len(y_hat),1),y_test.reshape(len(y_test),1)),1))"
      ],
      "metadata": {
        "colab": {
          "base_uri": "https://localhost:8080/"
        },
        "id": "ii9Sb4tcY4fU",
        "outputId": "eba4191b-dfa4-4e30-8967-56e3ca2a4567"
      },
      "execution_count": 90,
      "outputs": [
        {
          "output_type": "stream",
          "name": "stdout",
          "text": [
            "[[3200000.  3200000. ]\n",
            " [2400000.  2400000. ]\n",
            " [2977816.7 2500000. ]\n",
            " [2690493.4 2600000. ]\n",
            " [3500000.  3500000. ]\n",
            " [2690493.4 2600000. ]\n",
            " [1579671.6 1800000. ]\n",
            " [ 500000.   500000. ]\n",
            " [ 476734.   650000. ]\n",
            " [2900000.  2900000. ]\n",
            " [ 700000.   700000. ]\n",
            " [ 476734.   650000. ]\n",
            " [1500000.  1500000. ]\n",
            " [1802870.3 1600000. ]\n",
            " [ 666813.8  650000. ]\n",
            " [ 600000.   600000. ]\n",
            " [1032040.8  850000. ]\n",
            " [1200000.  1200000. ]\n",
            " [ 700000.   700000. ]\n",
            " [2650158.8 2200000. ]]\n"
          ]
        }
      ]
    },
    {
      "cell_type": "code",
      "source": [
        "from sklearn.metrics import r2_score\n",
        "print(r2_score(y_test,y_hat))"
      ],
      "metadata": {
        "colab": {
          "base_uri": "https://localhost:8080/"
        },
        "id": "gtIlwxaDZVCr",
        "outputId": "5b3fd914-68f2-4a07-addf-5f1adb34ed5f"
      },
      "execution_count": 91,
      "outputs": [
        {
          "output_type": "stream",
          "name": "stdout",
          "text": [
            "0.9666325529600776\n"
          ]
        }
      ]
    },
    {
      "cell_type": "code",
      "source": [
        "print(r2_score(y_train,lr.predict(xtrain_poly)))"
      ],
      "metadata": {
        "colab": {
          "base_uri": "https://localhost:8080/"
        },
        "id": "2kSOr51xZbkg",
        "outputId": "6cd79e48-a3ba-40ac-aa2a-3b765343a594"
      },
      "execution_count": 93,
      "outputs": [
        {
          "output_type": "stream",
          "name": "stdout",
          "text": [
            "1.0\n"
          ]
        }
      ]
    },
    {
      "cell_type": "code",
      "source": [],
      "metadata": {
        "id": "utS2QQPcgjub"
      },
      "execution_count": null,
      "outputs": []
    },
    {
      "cell_type": "markdown",
      "source": [
        "# support vector machine"
      ],
      "metadata": {
        "id": "dtpl76-Vgkgz"
      }
    },
    {
      "cell_type": "code",
      "source": [
        "x=df.iloc[:,:-1].values\n",
        "y=df.iloc[:,-1].values"
      ],
      "metadata": {
        "id": "y_2Mia3Fk3KJ"
      },
      "execution_count": 163,
      "outputs": []
    },
    {
      "cell_type": "code",
      "source": [
        "y=y.reshape(len(y),1)"
      ],
      "metadata": {
        "id": "b36EOIvKqt6Q"
      },
      "execution_count": 164,
      "outputs": []
    },
    {
      "cell_type": "code",
      "source": [
        "from sklearn.compose import ColumnTransformer\n",
        "from sklearn.preprocessing import OneHotEncoder\n",
        "ct=ColumnTransformer(transformers=[('encoder',OneHotEncoder(),[1,2,5,6,7])],remainder='passthrough')\n"
      ],
      "metadata": {
        "id": "hPUaKxeZk3SE"
      },
      "execution_count": 165,
      "outputs": []
    },
    {
      "cell_type": "code",
      "source": [
        "x=ct.fit_transform(x)"
      ],
      "metadata": {
        "id": "O-vb0ToNlOwK"
      },
      "execution_count": 166,
      "outputs": []
    },
    {
      "cell_type": "code",
      "source": [
        "x=x.toarray()\n"
      ],
      "metadata": {
        "id": "cuEjkbG2mw7J"
      },
      "execution_count": 167,
      "outputs": []
    },
    {
      "cell_type": "code",
      "source": [
        "from sklearn.model_selection import train_test_split\n",
        "x_train,x_test,y_train,y_test=train_test_split(x,y,test_size=0.2,random_state=0)"
      ],
      "metadata": {
        "id": "7kkK1KhUx4Bx"
      },
      "execution_count": 168,
      "outputs": []
    },
    {
      "cell_type": "code",
      "source": [
        "from sklearn.preprocessing import StandardScaler\n",
        "sc=StandardScaler()\n",
        "x_train=sc.fit_transform(x_train)\n",
        "x_test=sc.transform(x_test)\n",
        "sc1=StandardScaler()\n",
        "y_train=sc1.fit_transform(y_train)\n",
        "y_test=sc1.transform(y_test)\n",
        "\n"
      ],
      "metadata": {
        "id": "-5ZwMPUygpHa"
      },
      "execution_count": 169,
      "outputs": []
    },
    {
      "cell_type": "code",
      "source": [
        "print(x_train.shape[0])"
      ],
      "metadata": {
        "colab": {
          "base_uri": "https://localhost:8080/"
        },
        "id": "yi1mBvbGmJb_",
        "outputId": "efea55f0-0a0a-4455-df91-0e31db9ea44a"
      },
      "execution_count": 170,
      "outputs": [
        {
          "output_type": "stream",
          "name": "stdout",
          "text": [
            "80\n"
          ]
        }
      ]
    },
    {
      "cell_type": "code",
      "source": [
        "print(x_test.shape[0])"
      ],
      "metadata": {
        "colab": {
          "base_uri": "https://localhost:8080/"
        },
        "id": "0-2c6ojGmKrz",
        "outputId": "520997d7-7248-4501-ff42-c550be9d5d05"
      },
      "execution_count": 171,
      "outputs": [
        {
          "output_type": "stream",
          "name": "stdout",
          "text": [
            "20\n"
          ]
        }
      ]
    },
    {
      "cell_type": "code",
      "source": [],
      "metadata": {
        "id": "e_Z87uHkrNAb"
      },
      "execution_count": null,
      "outputs": []
    },
    {
      "cell_type": "code",
      "source": [
        "from sklearn.svm import SVR\n",
        "reg=SVR(kernel='rbf')\n",
        "reg.fit(x_train,y_train)"
      ],
      "metadata": {
        "colab": {
          "base_uri": "https://localhost:8080/",
          "height": 129
        },
        "id": "ySQqN4sRrBsR",
        "outputId": "8726d265-d28b-4c8e-d75b-4bbc56ad98f6"
      },
      "execution_count": 172,
      "outputs": [
        {
          "output_type": "stream",
          "name": "stderr",
          "text": [
            "/usr/local/lib/python3.10/dist-packages/sklearn/utils/validation.py:1143: DataConversionWarning: A column-vector y was passed when a 1d array was expected. Please change the shape of y to (n_samples, ), for example using ravel().\n",
            "  y = column_or_1d(y, warn=True)\n"
          ]
        },
        {
          "output_type": "execute_result",
          "data": {
            "text/plain": [
              "SVR()"
            ],
            "text/html": [
              "<style>#sk-container-id-9 {color: black;background-color: white;}#sk-container-id-9 pre{padding: 0;}#sk-container-id-9 div.sk-toggleable {background-color: white;}#sk-container-id-9 label.sk-toggleable__label {cursor: pointer;display: block;width: 100%;margin-bottom: 0;padding: 0.3em;box-sizing: border-box;text-align: center;}#sk-container-id-9 label.sk-toggleable__label-arrow:before {content: \"▸\";float: left;margin-right: 0.25em;color: #696969;}#sk-container-id-9 label.sk-toggleable__label-arrow:hover:before {color: black;}#sk-container-id-9 div.sk-estimator:hover label.sk-toggleable__label-arrow:before {color: black;}#sk-container-id-9 div.sk-toggleable__content {max-height: 0;max-width: 0;overflow: hidden;text-align: left;background-color: #f0f8ff;}#sk-container-id-9 div.sk-toggleable__content pre {margin: 0.2em;color: black;border-radius: 0.25em;background-color: #f0f8ff;}#sk-container-id-9 input.sk-toggleable__control:checked~div.sk-toggleable__content {max-height: 200px;max-width: 100%;overflow: auto;}#sk-container-id-9 input.sk-toggleable__control:checked~label.sk-toggleable__label-arrow:before {content: \"▾\";}#sk-container-id-9 div.sk-estimator input.sk-toggleable__control:checked~label.sk-toggleable__label {background-color: #d4ebff;}#sk-container-id-9 div.sk-label input.sk-toggleable__control:checked~label.sk-toggleable__label {background-color: #d4ebff;}#sk-container-id-9 input.sk-hidden--visually {border: 0;clip: rect(1px 1px 1px 1px);clip: rect(1px, 1px, 1px, 1px);height: 1px;margin: -1px;overflow: hidden;padding: 0;position: absolute;width: 1px;}#sk-container-id-9 div.sk-estimator {font-family: monospace;background-color: #f0f8ff;border: 1px dotted black;border-radius: 0.25em;box-sizing: border-box;margin-bottom: 0.5em;}#sk-container-id-9 div.sk-estimator:hover {background-color: #d4ebff;}#sk-container-id-9 div.sk-parallel-item::after {content: \"\";width: 100%;border-bottom: 1px solid gray;flex-grow: 1;}#sk-container-id-9 div.sk-label:hover label.sk-toggleable__label {background-color: #d4ebff;}#sk-container-id-9 div.sk-serial::before {content: \"\";position: absolute;border-left: 1px solid gray;box-sizing: border-box;top: 0;bottom: 0;left: 50%;z-index: 0;}#sk-container-id-9 div.sk-serial {display: flex;flex-direction: column;align-items: center;background-color: white;padding-right: 0.2em;padding-left: 0.2em;position: relative;}#sk-container-id-9 div.sk-item {position: relative;z-index: 1;}#sk-container-id-9 div.sk-parallel {display: flex;align-items: stretch;justify-content: center;background-color: white;position: relative;}#sk-container-id-9 div.sk-item::before, #sk-container-id-9 div.sk-parallel-item::before {content: \"\";position: absolute;border-left: 1px solid gray;box-sizing: border-box;top: 0;bottom: 0;left: 50%;z-index: -1;}#sk-container-id-9 div.sk-parallel-item {display: flex;flex-direction: column;z-index: 1;position: relative;background-color: white;}#sk-container-id-9 div.sk-parallel-item:first-child::after {align-self: flex-end;width: 50%;}#sk-container-id-9 div.sk-parallel-item:last-child::after {align-self: flex-start;width: 50%;}#sk-container-id-9 div.sk-parallel-item:only-child::after {width: 0;}#sk-container-id-9 div.sk-dashed-wrapped {border: 1px dashed gray;margin: 0 0.4em 0.5em 0.4em;box-sizing: border-box;padding-bottom: 0.4em;background-color: white;}#sk-container-id-9 div.sk-label label {font-family: monospace;font-weight: bold;display: inline-block;line-height: 1.2em;}#sk-container-id-9 div.sk-label-container {text-align: center;}#sk-container-id-9 div.sk-container {/* jupyter's `normalize.less` sets `[hidden] { display: none; }` but bootstrap.min.css set `[hidden] { display: none !important; }` so we also need the `!important` here to be able to override the default hidden behavior on the sphinx rendered scikit-learn.org. See: https://github.com/scikit-learn/scikit-learn/issues/21755 */display: inline-block !important;position: relative;}#sk-container-id-9 div.sk-text-repr-fallback {display: none;}</style><div id=\"sk-container-id-9\" class=\"sk-top-container\"><div class=\"sk-text-repr-fallback\"><pre>SVR()</pre><b>In a Jupyter environment, please rerun this cell to show the HTML representation or trust the notebook. <br />On GitHub, the HTML representation is unable to render, please try loading this page with nbviewer.org.</b></div><div class=\"sk-container\" hidden><div class=\"sk-item\"><div class=\"sk-estimator sk-toggleable\"><input class=\"sk-toggleable__control sk-hidden--visually\" id=\"sk-estimator-id-9\" type=\"checkbox\" checked><label for=\"sk-estimator-id-9\" class=\"sk-toggleable__label sk-toggleable__label-arrow\">SVR</label><div class=\"sk-toggleable__content\"><pre>SVR()</pre></div></div></div></div></div>"
            ]
          },
          "metadata": {},
          "execution_count": 172
        }
      ]
    },
    {
      "cell_type": "code",
      "source": [
        "y_hat=sc1.inverse_transform(reg.predict(x_test).reshape(len(x_test),1))"
      ],
      "metadata": {
        "id": "ij-tE23QrVA5"
      },
      "execution_count": 173,
      "outputs": []
    },
    {
      "cell_type": "code",
      "source": [
        "y_hat2=sc1.inverse_transform(reg.predict(x_train).reshape(len(x_train),1))"
      ],
      "metadata": {
        "id": "pOFuNtgPz6NP"
      },
      "execution_count": 181,
      "outputs": []
    },
    {
      "cell_type": "code",
      "source": [
        "print(y_hat2)"
      ],
      "metadata": {
        "colab": {
          "base_uri": "https://localhost:8080/"
        },
        "id": "ipFcOfPO0keN",
        "outputId": "bd819172-a751-4142-80fb-9a4b431f5fa1"
      },
      "execution_count": 182,
      "outputs": [
        {
          "output_type": "stream",
          "name": "stdout",
          "text": [
            "[[ 800058.8]\n",
            " [1300104.2]\n",
            " [ 700196.1]\n",
            " [ 800203.9]\n",
            " [1537524.1]\n",
            " [2300047.2]\n",
            " [1000077.2]\n",
            " [ 699756.4]\n",
            " [ 950044.6]\n",
            " [3826909.2]\n",
            " [ 949733.8]\n",
            " [ 599530. ]\n",
            " [ 599790.9]\n",
            " [ 699955.7]\n",
            " [ 647306.7]\n",
            " [2699921.7]\n",
            " [2705822.6]\n",
            " [2705541.7]\n",
            " [1700047.9]\n",
            " [1900954.9]\n",
            " [1100476.6]\n",
            " [ 684344.9]\n",
            " [ 599530. ]\n",
            " [ 549971.4]\n",
            " [ 950132.5]\n",
            " [ 750092.2]\n",
            " [1800078.3]\n",
            " [1533717.8]\n",
            " [3824494.5]\n",
            " [ 850074.5]\n",
            " [ 799990.3]\n",
            " [ 847522.2]\n",
            " [ 899948.9]\n",
            " [ 849641.4]\n",
            " [2600028.9]\n",
            " [2599770.1]\n",
            " [1900099.2]\n",
            " [ 600124.1]\n",
            " [ 700053.8]\n",
            " [ 600080.9]\n",
            " [2400042.3]\n",
            " [ 899936.2]\n",
            " [2600089.8]\n",
            " [2643540. ]\n",
            " [ 550149.9]\n",
            " [3100287.8]\n",
            " [1399550.8]\n",
            " [2900188.1]\n",
            " [ 949967. ]\n",
            " [ 649817.4]\n",
            " [2400168.2]\n",
            " [2400263.7]\n",
            " [1775050.1]\n",
            " [ 849897.5]\n",
            " [ 949591.2]\n",
            " [ 899878.9]\n",
            " [1499671.7]\n",
            " [2699926.4]\n",
            " [ 850349.3]\n",
            " [ 749560.1]\n",
            " [1695423.1]\n",
            " [2890309.7]\n",
            " [ 800007.1]\n",
            " [2900305.6]\n",
            " [ 749618.5]\n",
            " [2699968.8]\n",
            " [1500017.6]\n",
            " [ 949755.9]\n",
            " [2599967.8]\n",
            " [1399527.1]\n",
            " [1772365.1]\n",
            " [1900012.7]\n",
            " [ 650253.5]\n",
            " [1537892. ]\n",
            " [2600369.3]\n",
            " [1497267.2]\n",
            " [2400414.4]\n",
            " [2667051. ]\n",
            " [3100382.9]\n",
            " [ 949749.3]]\n"
          ]
        }
      ]
    },
    {
      "cell_type": "code",
      "source": [
        "print(y_hat)"
      ],
      "metadata": {
        "colab": {
          "base_uri": "https://localhost:8080/"
        },
        "id": "yVkLqcg0v4oL",
        "outputId": "063830f5-19fa-41a1-b02c-1d94cf0057fe"
      },
      "execution_count": 174,
      "outputs": [
        {
          "output_type": "stream",
          "name": "stdout",
          "text": [
            "[[2638325.9]\n",
            " [2281811.1]\n",
            " [2505066.1]\n",
            " [2436504.9]\n",
            " [2868317.6]\n",
            " [2414700.6]\n",
            " [1904466.9]\n",
            " [ 616855.5]\n",
            " [1139243.6]\n",
            " [2620844.2]\n",
            " [ 810414.8]\n",
            " [1147035.8]\n",
            " [1533461.2]\n",
            " [1902032.4]\n",
            " [1282991. ]\n",
            " [ 712207.7]\n",
            " [ 999581.1]\n",
            " [1303476.7]\n",
            " [ 810141.8]\n",
            " [2361624.9]]\n"
          ]
        }
      ]
    },
    {
      "cell_type": "code",
      "source": [
        "y_test=sc1.inverse_transform(y_test).reshape(len(y_test),1)"
      ],
      "metadata": {
        "id": "VQ-GpT52xQ-r"
      },
      "execution_count": 175,
      "outputs": []
    },
    {
      "cell_type": "code",
      "source": [
        "np.set_printoptions(1)\n",
        "print(np.concatenate((y_hat.reshape(len(y_hat),1),y_test.reshape(len(y_test),1)),1))"
      ],
      "metadata": {
        "colab": {
          "base_uri": "https://localhost:8080/"
        },
        "id": "dbivRVXUraEW",
        "outputId": "a98ce890-8834-4b00-bfad-7cbdd793372b"
      },
      "execution_count": 177,
      "outputs": [
        {
          "output_type": "stream",
          "name": "stdout",
          "text": [
            "[[2638325.9 3200000. ]\n",
            " [2281811.1 2400000. ]\n",
            " [2505066.1 2500000. ]\n",
            " [2436504.9 2600000. ]\n",
            " [2868317.6 3500000. ]\n",
            " [2414700.6 2600000. ]\n",
            " [1904466.9 1800000. ]\n",
            " [ 616855.5  500000. ]\n",
            " [1139243.6  650000. ]\n",
            " [2620844.2 2900000. ]\n",
            " [ 810414.8  700000. ]\n",
            " [1147035.8  650000. ]\n",
            " [1533461.2 1500000. ]\n",
            " [1902032.4 1600000. ]\n",
            " [1282991.   650000. ]\n",
            " [ 712207.7  600000. ]\n",
            " [ 999581.1  850000. ]\n",
            " [1303476.7 1200000. ]\n",
            " [ 810141.8  700000. ]\n",
            " [2361624.9 2200000. ]]\n"
          ]
        }
      ]
    },
    {
      "cell_type": "code",
      "source": [
        "y_train=sc1.inverse_transform(y_train)"
      ],
      "metadata": {
        "id": "RMc7ECAF0uBl"
      },
      "execution_count": 184,
      "outputs": []
    },
    {
      "cell_type": "code",
      "source": [
        "print(np.concatenate((y_hat2.reshape(len(y_hat2),1),y_train.reshape(len(y_train),1)),1))"
      ],
      "metadata": {
        "colab": {
          "base_uri": "https://localhost:8080/"
        },
        "id": "8OHGMkm00Pf5",
        "outputId": "e734c292-13b9-4ff2-d092-6d2ebe782c71"
      },
      "execution_count": 185,
      "outputs": [
        {
          "output_type": "stream",
          "name": "stdout",
          "text": [
            "[[ 800058.8  700000. ]\n",
            " [1300104.2 1200000. ]\n",
            " [ 700196.1  600000. ]\n",
            " [ 800203.9  700000. ]\n",
            " [1537524.1 1600000. ]\n",
            " [2300047.2 2400000. ]\n",
            " [1000077.2  900000. ]\n",
            " [ 699756.4  600000. ]\n",
            " [ 950044.6  850000. ]\n",
            " [3826909.2 4000000. ]\n",
            " [ 949733.8  850000. ]\n",
            " [ 599530.   500000. ]\n",
            " [ 599790.9  500000. ]\n",
            " [ 699955.7  600000. ]\n",
            " [ 647306.7  550000. ]\n",
            " [2699921.7 2800000. ]\n",
            " [2705822.6 3000000. ]\n",
            " [2705541.7 2800000. ]\n",
            " [1700047.9 1600000. ]\n",
            " [1900954.9 2000000. ]\n",
            " [1100476.6 1000000. ]\n",
            " [ 684344.9  600000. ]\n",
            " [ 599530.   500000. ]\n",
            " [ 549971.4  450000. ]\n",
            " [ 950132.5  850000. ]\n",
            " [ 750092.2  650000. ]\n",
            " [1800078.3 1900000. ]\n",
            " [1533717.8 1500000. ]\n",
            " [3824494.5 4000000. ]\n",
            " [ 850074.5  750000. ]\n",
            " [ 799990.3  700000. ]\n",
            " [ 847522.2  750000. ]\n",
            " [ 899948.9  800000. ]\n",
            " [ 849641.4  750000. ]\n",
            " [2600028.9 2700000. ]\n",
            " [2599770.1 2700000. ]\n",
            " [1900099.2 2000000. ]\n",
            " [ 600124.1  500000. ]\n",
            " [ 700053.8  600000. ]\n",
            " [ 600080.9  500000. ]\n",
            " [2400042.3 2300000. ]\n",
            " [ 899936.2  800000. ]\n",
            " [2600089.8 2700000. ]\n",
            " [2643540.  2900000. ]\n",
            " [ 550149.9  450000. ]\n",
            " [3100287.8 3200000. ]\n",
            " [1399550.8 1300000. ]\n",
            " [2900188.1 3000000. ]\n",
            " [ 949967.   850000. ]\n",
            " [ 649817.4  550000. ]\n",
            " [2400168.2 2500000. ]\n",
            " [2400263.7 2500000. ]\n",
            " [1775050.1 1800000. ]\n",
            " [ 849897.5  750000. ]\n",
            " [ 949591.2  850000. ]\n",
            " [ 899878.9  800000. ]\n",
            " [1499671.7 1400000. ]\n",
            " [2699926.4 2800000. ]\n",
            " [ 850349.3  750000. ]\n",
            " [ 749560.1  650000. ]\n",
            " [1695423.1 1600000. ]\n",
            " [2890309.7 3500000. ]\n",
            " [ 800007.1  700000. ]\n",
            " [2900305.6 3000000. ]\n",
            " [ 749618.5  650000. ]\n",
            " [2699968.8 2800000. ]\n",
            " [1500017.6 1400000. ]\n",
            " [ 949755.9  850000. ]\n",
            " [2599967.8 2700000. ]\n",
            " [1399527.1 1300000. ]\n",
            " [1772365.1 1800000. ]\n",
            " [1900012.7 2000000. ]\n",
            " [ 650253.5  550000. ]\n",
            " [1537892.  1600000. ]\n",
            " [2600369.3 2700000. ]\n",
            " [1497267.2 1400000. ]\n",
            " [2400414.4 2500000. ]\n",
            " [2667051.  3200000. ]\n",
            " [3100382.9 3200000. ]\n",
            " [ 949749.3  850000. ]]\n"
          ]
        }
      ]
    },
    {
      "cell_type": "code",
      "source": [
        "from sklearn.metrics import r2_score\n",
        "print(r2_score(y_test,y_hat))"
      ],
      "metadata": {
        "colab": {
          "base_uri": "https://localhost:8080/"
        },
        "id": "V_2dfpEmsAej",
        "outputId": "a8ad842c-9503-4343-dcbb-93082c26c346"
      },
      "execution_count": 178,
      "outputs": [
        {
          "output_type": "stream",
          "name": "stdout",
          "text": [
            "0.8958693744797128\n"
          ]
        }
      ]
    },
    {
      "cell_type": "code",
      "source": [
        "print(r2_score(y_train,y_hat2))"
      ],
      "metadata": {
        "colab": {
          "base_uri": "https://localhost:8080/"
        },
        "id": "lfu3Yu0isJM_",
        "outputId": "7549e650-a1eb-46df-b09f-aec6ef154499"
      },
      "execution_count": 187,
      "outputs": [
        {
          "output_type": "stream",
          "name": "stdout",
          "text": [
            "0.9804697134583605\n"
          ]
        }
      ]
    }
  ]
}