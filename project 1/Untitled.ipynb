{
 "cells": [
  {
   "cell_type": "code",
   "execution_count": null,
   "id": "7c68fb09",
   "metadata": {},
   "outputs": [],
   "source": [
    "import spacy\n",
    "from fuzzywuzzy import process\n",
    "import pandas as pd\n",
    "\n",
    "df = pd.read_csv(\"country pro.csv\")\n",
    "df2 = pd.read_csv(\"states.csv\")\n",
    "df3 = pd.read_csv(\"cities.csv\")\n",
    "\n",
    "country_names = df[\"name\"].tolist()\n",
    "nlp = spacy.load(\"en_core_web_sm\")\n",
    "\n",
    "city_names = df3[\"name\"].tolist()\n",
    "state_names = df2[\"name\"].tolist()\n",
    "\n",
    "state_keywords = [\"state\", \"province\", \"region\"]  # Add more keywords as needed\n",
    "\n",
    "def identify_places(sentence):\n",
    "    doc = nlp(sentence)\n",
    "\n",
    "    results = []\n",
    "    for ent in doc.ents:\n",
    "        token = ent.text\n",
    "        if token in country_names:\n",
    "            canonical_name = process.extractOne(token, country_names)[0]\n",
    "            table = 'Country'\n",
    "        elif token in city_names:\n",
    "            canonical_name = process.extractOne(token, city_names)[0]\n",
    "            table = 'City'\n",
    "        elif token in state_names:\n",
    "            canonical_name = process.extractOne(token, state_names)[0]\n",
    "            table = 'State'\n",
    "        else:\n",
    "           \n",
    "                continue\n",
    "\n",
    "        results.append({'Token': token, 'Canonical Name': canonical_name, 'Table': table})\n",
    "\n",
    "    return results\n",
    "\n",
    "s = input(\"enter sentence\")\n",
    "\n",
    "k = identify_places(s)\n",
    "print(k)"
   ]
  }
 ],
 "metadata": {
  "kernelspec": {
   "display_name": "Python 3 (ipykernel)",
   "language": "python",
   "name": "python3"
  },
  "language_info": {
   "codemirror_mode": {
    "name": "ipython",
    "version": 3
   },
   "file_extension": ".py",
   "mimetype": "text/x-python",
   "name": "python",
   "nbconvert_exporter": "python",
   "pygments_lexer": "ipython3",
   "version": "3.11.5"
  }
 },
 "nbformat": 4,
 "nbformat_minor": 5
}
